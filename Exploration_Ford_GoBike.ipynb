{
 "cells": [
  {
   "cell_type": "markdown",
   "metadata": {},
   "source": [
    "# Part I - (Ford GoBike system data)\n",
    "## by Clarisse TOMAVO\n",
    "\n",
    "## Introduction\n",
    "\n",
    "### This dataset includes information about individual trips made in a bike-sharing system covering the greater San Francisco Bay Area.\n",
    "\n",
    "\n",
    "## Preliminary Wrangling\n"
   ]
  },
  {
   "cell_type": "code",
   "execution_count": 1,
   "metadata": {},
   "outputs": [],
   "source": [
    "# import all packages and set plots to be embedded inline\n",
    "import numpy as np\n",
    "import pandas as pd\n",
    "import matplotlib.pyplot as plt\n",
    "import seaborn as sb\n",
    "\n",
    "import warnings\n",
    "warnings.filterwarnings(\"ignore\")\n",
    "%matplotlib inline"
   ]
  },
  {
   "cell_type": "markdown",
   "metadata": {},
   "source": [
    "> Load in your dataset and describe its properties through the questions below. Try and motivate your exploration goals through this section.\n"
   ]
  },
  {
   "cell_type": "code",
   "execution_count": 2,
   "metadata": {},
   "outputs": [
    {
     "data": {
      "text/html": [
       "<div>\n",
       "<style scoped>\n",
       "    .dataframe tbody tr th:only-of-type {\n",
       "        vertical-align: middle;\n",
       "    }\n",
       "\n",
       "    .dataframe tbody tr th {\n",
       "        vertical-align: top;\n",
       "    }\n",
       "\n",
       "    .dataframe thead th {\n",
       "        text-align: right;\n",
       "    }\n",
       "</style>\n",
       "<table border=\"1\" class=\"dataframe\">\n",
       "  <thead>\n",
       "    <tr style=\"text-align: right;\">\n",
       "      <th></th>\n",
       "      <th>duration_sec</th>\n",
       "      <th>start_time</th>\n",
       "      <th>end_time</th>\n",
       "      <th>start_station_id</th>\n",
       "      <th>start_station_name</th>\n",
       "      <th>start_station_latitude</th>\n",
       "      <th>start_station_longitude</th>\n",
       "      <th>end_station_id</th>\n",
       "      <th>end_station_name</th>\n",
       "      <th>end_station_latitude</th>\n",
       "      <th>end_station_longitude</th>\n",
       "      <th>bike_id</th>\n",
       "      <th>user_type</th>\n",
       "      <th>member_birth_year</th>\n",
       "      <th>member_gender</th>\n",
       "      <th>bike_share_for_all_trip</th>\n",
       "    </tr>\n",
       "  </thead>\n",
       "  <tbody>\n",
       "    <tr>\n",
       "      <th>0</th>\n",
       "      <td>52185</td>\n",
       "      <td>2019-02-28 17:32:10.1450</td>\n",
       "      <td>2019-03-01 08:01:55.9750</td>\n",
       "      <td>21.0</td>\n",
       "      <td>Montgomery St BART Station (Market St at 2nd St)</td>\n",
       "      <td>37.789625</td>\n",
       "      <td>-122.400811</td>\n",
       "      <td>13.0</td>\n",
       "      <td>Commercial St at Montgomery St</td>\n",
       "      <td>37.794231</td>\n",
       "      <td>-122.402923</td>\n",
       "      <td>4902</td>\n",
       "      <td>Customer</td>\n",
       "      <td>1984.0</td>\n",
       "      <td>Male</td>\n",
       "      <td>No</td>\n",
       "    </tr>\n",
       "    <tr>\n",
       "      <th>1</th>\n",
       "      <td>42521</td>\n",
       "      <td>2019-02-28 18:53:21.7890</td>\n",
       "      <td>2019-03-01 06:42:03.0560</td>\n",
       "      <td>23.0</td>\n",
       "      <td>The Embarcadero at Steuart St</td>\n",
       "      <td>37.791464</td>\n",
       "      <td>-122.391034</td>\n",
       "      <td>81.0</td>\n",
       "      <td>Berry St at 4th St</td>\n",
       "      <td>37.775880</td>\n",
       "      <td>-122.393170</td>\n",
       "      <td>2535</td>\n",
       "      <td>Customer</td>\n",
       "      <td>NaN</td>\n",
       "      <td>NaN</td>\n",
       "      <td>No</td>\n",
       "    </tr>\n",
       "    <tr>\n",
       "      <th>2</th>\n",
       "      <td>61854</td>\n",
       "      <td>2019-02-28 12:13:13.2180</td>\n",
       "      <td>2019-03-01 05:24:08.1460</td>\n",
       "      <td>86.0</td>\n",
       "      <td>Market St at Dolores St</td>\n",
       "      <td>37.769305</td>\n",
       "      <td>-122.426826</td>\n",
       "      <td>3.0</td>\n",
       "      <td>Powell St BART Station (Market St at 4th St)</td>\n",
       "      <td>37.786375</td>\n",
       "      <td>-122.404904</td>\n",
       "      <td>5905</td>\n",
       "      <td>Customer</td>\n",
       "      <td>1972.0</td>\n",
       "      <td>Male</td>\n",
       "      <td>No</td>\n",
       "    </tr>\n",
       "    <tr>\n",
       "      <th>3</th>\n",
       "      <td>36490</td>\n",
       "      <td>2019-02-28 17:54:26.0100</td>\n",
       "      <td>2019-03-01 04:02:36.8420</td>\n",
       "      <td>375.0</td>\n",
       "      <td>Grove St at Masonic Ave</td>\n",
       "      <td>37.774836</td>\n",
       "      <td>-122.446546</td>\n",
       "      <td>70.0</td>\n",
       "      <td>Central Ave at Fell St</td>\n",
       "      <td>37.773311</td>\n",
       "      <td>-122.444293</td>\n",
       "      <td>6638</td>\n",
       "      <td>Subscriber</td>\n",
       "      <td>1989.0</td>\n",
       "      <td>Other</td>\n",
       "      <td>No</td>\n",
       "    </tr>\n",
       "    <tr>\n",
       "      <th>4</th>\n",
       "      <td>1585</td>\n",
       "      <td>2019-02-28 23:54:18.5490</td>\n",
       "      <td>2019-03-01 00:20:44.0740</td>\n",
       "      <td>7.0</td>\n",
       "      <td>Frank H Ogawa Plaza</td>\n",
       "      <td>37.804562</td>\n",
       "      <td>-122.271738</td>\n",
       "      <td>222.0</td>\n",
       "      <td>10th Ave at E 15th St</td>\n",
       "      <td>37.792714</td>\n",
       "      <td>-122.248780</td>\n",
       "      <td>4898</td>\n",
       "      <td>Subscriber</td>\n",
       "      <td>1974.0</td>\n",
       "      <td>Male</td>\n",
       "      <td>Yes</td>\n",
       "    </tr>\n",
       "  </tbody>\n",
       "</table>\n",
       "</div>"
      ],
      "text/plain": [
       "   duration_sec                start_time                  end_time  \\\n",
       "0         52185  2019-02-28 17:32:10.1450  2019-03-01 08:01:55.9750   \n",
       "1         42521  2019-02-28 18:53:21.7890  2019-03-01 06:42:03.0560   \n",
       "2         61854  2019-02-28 12:13:13.2180  2019-03-01 05:24:08.1460   \n",
       "3         36490  2019-02-28 17:54:26.0100  2019-03-01 04:02:36.8420   \n",
       "4          1585  2019-02-28 23:54:18.5490  2019-03-01 00:20:44.0740   \n",
       "\n",
       "   start_station_id                                start_station_name  \\\n",
       "0              21.0  Montgomery St BART Station (Market St at 2nd St)   \n",
       "1              23.0                     The Embarcadero at Steuart St   \n",
       "2              86.0                           Market St at Dolores St   \n",
       "3             375.0                           Grove St at Masonic Ave   \n",
       "4               7.0                               Frank H Ogawa Plaza   \n",
       "\n",
       "   start_station_latitude  start_station_longitude  end_station_id  \\\n",
       "0               37.789625              -122.400811            13.0   \n",
       "1               37.791464              -122.391034            81.0   \n",
       "2               37.769305              -122.426826             3.0   \n",
       "3               37.774836              -122.446546            70.0   \n",
       "4               37.804562              -122.271738           222.0   \n",
       "\n",
       "                               end_station_name  end_station_latitude  \\\n",
       "0                Commercial St at Montgomery St             37.794231   \n",
       "1                            Berry St at 4th St             37.775880   \n",
       "2  Powell St BART Station (Market St at 4th St)             37.786375   \n",
       "3                        Central Ave at Fell St             37.773311   \n",
       "4                         10th Ave at E 15th St             37.792714   \n",
       "\n",
       "   end_station_longitude  bike_id   user_type  member_birth_year  \\\n",
       "0            -122.402923     4902    Customer             1984.0   \n",
       "1            -122.393170     2535    Customer                NaN   \n",
       "2            -122.404904     5905    Customer             1972.0   \n",
       "3            -122.444293     6638  Subscriber             1989.0   \n",
       "4            -122.248780     4898  Subscriber             1974.0   \n",
       "\n",
       "  member_gender bike_share_for_all_trip  \n",
       "0          Male                      No  \n",
       "1           NaN                      No  \n",
       "2          Male                      No  \n",
       "3         Other                      No  \n",
       "4          Male                     Yes  "
      ]
     },
     "execution_count": 2,
     "metadata": {},
     "output_type": "execute_result"
    }
   ],
   "source": [
    "df_fordgobike = pd.read_csv('201902-fordgobike-tripdata.csv')\n",
    "df_fordgobike.head(5)"
   ]
  },
  {
   "cell_type": "markdown",
   "metadata": {},
   "source": [
    "### Display of information (column name, column data type, number of non-null records for each column) of our dataset."
   ]
  },
  {
   "cell_type": "code",
   "execution_count": 3,
   "metadata": {},
   "outputs": [
    {
     "name": "stdout",
     "output_type": "stream",
     "text": [
      "<class 'pandas.core.frame.DataFrame'>\n",
      "RangeIndex: 183412 entries, 0 to 183411\n",
      "Data columns (total 16 columns):\n",
      " #   Column                   Non-Null Count   Dtype  \n",
      "---  ------                   --------------   -----  \n",
      " 0   duration_sec             183412 non-null  int64  \n",
      " 1   start_time               183412 non-null  object \n",
      " 2   end_time                 183412 non-null  object \n",
      " 3   start_station_id         183215 non-null  float64\n",
      " 4   start_station_name       183215 non-null  object \n",
      " 5   start_station_latitude   183412 non-null  float64\n",
      " 6   start_station_longitude  183412 non-null  float64\n",
      " 7   end_station_id           183215 non-null  float64\n",
      " 8   end_station_name         183215 non-null  object \n",
      " 9   end_station_latitude     183412 non-null  float64\n",
      " 10  end_station_longitude    183412 non-null  float64\n",
      " 11  bike_id                  183412 non-null  int64  \n",
      " 12  user_type                183412 non-null  object \n",
      " 13  member_birth_year        175147 non-null  float64\n",
      " 14  member_gender            175147 non-null  object \n",
      " 15  bike_share_for_all_trip  183412 non-null  object \n",
      "dtypes: float64(7), int64(2), object(7)\n",
      "memory usage: 22.4+ MB\n"
     ]
    }
   ],
   "source": [
    "'''\n",
    "Affichons les infos sur notre dataframe à savoir,le nombre total de ligne et de colonne,\n",
    "les noms des colonnes, le nombre de valeur non nul dans chaque colonne et le type de chaque colonne.\n",
    "'''\n",
    "df_fordgobike.info() "
   ]
  },
  {
   "cell_type": "code",
   "execution_count": 4,
   "metadata": {},
   "outputs": [
    {
     "data": {
      "text/plain": [
       "Male      130651\n",
       "Female     40844\n",
       "Other       3652\n",
       "Name: member_gender, dtype: int64"
      ]
     },
     "execution_count": 4,
     "metadata": {},
     "output_type": "execute_result"
    }
   ],
   "source": [
    "'''\n",
    "Généralement nous avons deux sexe humains. Nous allons faire un value counts pour voir les sexe de nos utilisateur et \n",
    "egalement le nombre d'user par sexe.\n",
    "'''\n",
    "df_fordgobike.member_gender.value_counts()"
   ]
  },
  {
   "cell_type": "markdown",
   "metadata": {},
   "source": [
    "### Displaying the dimensions of a dataframe"
   ]
  },
  {
   "cell_type": "code",
   "execution_count": 5,
   "metadata": {},
   "outputs": [
    {
     "name": "stdout",
     "output_type": "stream",
     "text": [
      "The row number of our dataframe is :  183412  and the column number is :  16\n"
     ]
    }
   ],
   "source": [
    "'''\n",
    "Observons les dimension de notre ensemble de données. A savoir le nombre de ligne et le nombre de colonnes.\n",
    "'''\n",
    "df_size= df_fordgobike.shape\n",
    "print(\"The row number of our dataframe is : \", df_size[0],\" and the column number is : \", df_size[1])"
   ]
  },
  {
   "cell_type": "markdown",
   "metadata": {},
   "source": [
    "### Displaying the number of null values in each column of the dataframe"
   ]
  },
  {
   "cell_type": "code",
   "execution_count": 6,
   "metadata": {},
   "outputs": [
    {
     "name": "stdout",
     "output_type": "stream",
     "text": [
      "Let's check if it contains any columns with null values.\n"
     ]
    },
    {
     "data": {
      "text/plain": [
       "duration_sec                  0\n",
       "start_time                    0\n",
       "end_time                      0\n",
       "start_station_id            197\n",
       "start_station_name          197\n",
       "start_station_latitude        0\n",
       "start_station_longitude       0\n",
       "end_station_id              197\n",
       "end_station_name            197\n",
       "end_station_latitude          0\n",
       "end_station_longitude         0\n",
       "bike_id                       0\n",
       "user_type                     0\n",
       "member_birth_year          8265\n",
       "member_gender              8265\n",
       "bike_share_for_all_trip       0\n",
       "dtype: int64"
      ]
     },
     "execution_count": 6,
     "metadata": {},
     "output_type": "execute_result"
    }
   ],
   "source": [
    "''' \n",
    "    Let's check if it contains any columns with null values\n",
    "'''\n",
    "print(\"Let's check if it contains any columns with null values.\")\n",
    "df_fordgobike.isna().sum()"
   ]
  },
  {
   "cell_type": "markdown",
   "metadata": {},
   "source": [
    "## Let's copy the df_fordbike into a dataframe named df_clean. It is df_clean that we will clean and use for analysis"
   ]
  },
  {
   "cell_type": "code",
   "execution_count": 7,
   "metadata": {},
   "outputs": [],
   "source": [
    "df_clean= df_fordgobike"
   ]
  },
  {
   "cell_type": "markdown",
   "metadata": {},
   "source": [
    "### The objective is to carry out exploratory and explanatory analyzes on the routes. For this fact, it is important that we know the ids of the departure stations and the ids of the arrival stations\n",
    "\n",
    "### Here we notice that we have 197 lines (record) missing station start id and station end id\n",
    "\n",
    "### We will delete these lines. We assume that for a record where station start id is not filled in is the same for station end id\n",
    "\n",
    "### Deletion of lines or station start id are empty"
   ]
  },
  {
   "cell_type": "code",
   "execution_count": 8,
   "metadata": {},
   "outputs": [
    {
     "name": "stdout",
     "output_type": "stream",
     "text": [
      "As guessed it is exactly that.\n"
     ]
    }
   ],
   "source": [
    "index_drop = df_clean[ df_clean['start_station_id'].isna() ].index\n",
    "# Delete these row indexes from dataFrame\n",
    "df_clean.drop(index_drop , inplace=True)\n",
    "df_clean.isna().sum()\n",
    "\n",
    "print(\"As guessed it is exactly that.\")"
   ]
  },
  {
   "cell_type": "markdown",
   "metadata": {},
   "source": [
    "### Are we going to delete the rows where the columns member_birth_year ou member_gender sont nulles?\n",
    "### No, we are not going to delete them."
   ]
  },
  {
   "cell_type": "code",
   "execution_count": 9,
   "metadata": {},
   "outputs": [
    {
     "name": "stdout",
     "output_type": "stream",
     "text": [
      "We are   3  unique value, for gender\n",
      "Here are: \n"
     ]
    },
    {
     "data": {
      "text/plain": [
       "Male      130500\n",
       "Female     40805\n",
       "Other       3647\n",
       "Name: member_gender, dtype: int64"
      ]
     },
     "execution_count": 9,
     "metadata": {},
     "output_type": "execute_result"
    }
   ],
   "source": [
    "# The different column values member_gender\n",
    "member_gender_unique= df_clean['member_gender'].nunique()\n",
    "gender=df_clean['member_gender'].value_counts()\n",
    "print(\"We are  \", member_gender_unique, \" unique value, for gender\")\n",
    "print(\"Here are: \")\n",
    "gender"
   ]
  },
  {
   "cell_type": "markdown",
   "metadata": {},
   "source": [
    "### Let's look at the different distinct values of some columns, to see if we're going to convert them to a categorical type."
   ]
  },
  {
   "cell_type": "code",
   "execution_count": 10,
   "metadata": {},
   "outputs": [
    {
     "data": {
      "text/plain": [
       "No     165869\n",
       "Yes     17346\n",
       "Name: bike_share_for_all_trip, dtype: int64"
      ]
     },
     "execution_count": 10,
     "metadata": {},
     "output_type": "execute_result"
    }
   ],
   "source": [
    "df_clean['bike_share_for_all_trip'].value_counts()"
   ]
  },
  {
   "cell_type": "code",
   "execution_count": 11,
   "metadata": {},
   "outputs": [
    {
     "data": {
      "text/plain": [
       "Subscriber    163414\n",
       "Customer       19801\n",
       "Name: user_type, dtype: int64"
      ]
     },
     "execution_count": 11,
     "metadata": {},
     "output_type": "execute_result"
    }
   ],
   "source": [
    "df_clean['user_type'].value_counts()"
   ]
  },
  {
   "cell_type": "code",
   "execution_count": 12,
   "metadata": {},
   "outputs": [
    {
     "data": {
      "text/html": [
       "<div>\n",
       "<style scoped>\n",
       "    .dataframe tbody tr th:only-of-type {\n",
       "        vertical-align: middle;\n",
       "    }\n",
       "\n",
       "    .dataframe tbody tr th {\n",
       "        vertical-align: top;\n",
       "    }\n",
       "\n",
       "    .dataframe thead th {\n",
       "        text-align: right;\n",
       "    }\n",
       "</style>\n",
       "<table border=\"1\" class=\"dataframe\">\n",
       "  <thead>\n",
       "    <tr style=\"text-align: right;\">\n",
       "      <th></th>\n",
       "      <th>duration_sec</th>\n",
       "      <th>start_time</th>\n",
       "      <th>end_time</th>\n",
       "      <th>start_station_id</th>\n",
       "      <th>start_station_name</th>\n",
       "      <th>start_station_latitude</th>\n",
       "      <th>start_station_longitude</th>\n",
       "      <th>end_station_id</th>\n",
       "      <th>end_station_name</th>\n",
       "      <th>end_station_latitude</th>\n",
       "      <th>end_station_longitude</th>\n",
       "      <th>bike_id</th>\n",
       "      <th>user_type</th>\n",
       "      <th>member_birth_year</th>\n",
       "      <th>member_gender</th>\n",
       "      <th>bike_share_for_all_trip</th>\n",
       "    </tr>\n",
       "  </thead>\n",
       "  <tbody>\n",
       "    <tr>\n",
       "      <th>0</th>\n",
       "      <td>52185</td>\n",
       "      <td>2019-02-28 17:32:10.1450</td>\n",
       "      <td>2019-03-01 08:01:55.9750</td>\n",
       "      <td>21.0</td>\n",
       "      <td>Montgomery St BART Station (Market St at 2nd St)</td>\n",
       "      <td>37.789625</td>\n",
       "      <td>-122.400811</td>\n",
       "      <td>13.0</td>\n",
       "      <td>Commercial St at Montgomery St</td>\n",
       "      <td>37.794231</td>\n",
       "      <td>-122.402923</td>\n",
       "      <td>4902</td>\n",
       "      <td>Customer</td>\n",
       "      <td>1984.0</td>\n",
       "      <td>Male</td>\n",
       "      <td>No</td>\n",
       "    </tr>\n",
       "    <tr>\n",
       "      <th>1</th>\n",
       "      <td>42521</td>\n",
       "      <td>2019-02-28 18:53:21.7890</td>\n",
       "      <td>2019-03-01 06:42:03.0560</td>\n",
       "      <td>23.0</td>\n",
       "      <td>The Embarcadero at Steuart St</td>\n",
       "      <td>37.791464</td>\n",
       "      <td>-122.391034</td>\n",
       "      <td>81.0</td>\n",
       "      <td>Berry St at 4th St</td>\n",
       "      <td>37.775880</td>\n",
       "      <td>-122.393170</td>\n",
       "      <td>2535</td>\n",
       "      <td>Customer</td>\n",
       "      <td>NaN</td>\n",
       "      <td>NaN</td>\n",
       "      <td>No</td>\n",
       "    </tr>\n",
       "    <tr>\n",
       "      <th>2</th>\n",
       "      <td>61854</td>\n",
       "      <td>2019-02-28 12:13:13.2180</td>\n",
       "      <td>2019-03-01 05:24:08.1460</td>\n",
       "      <td>86.0</td>\n",
       "      <td>Market St at Dolores St</td>\n",
       "      <td>37.769305</td>\n",
       "      <td>-122.426826</td>\n",
       "      <td>3.0</td>\n",
       "      <td>Powell St BART Station (Market St at 4th St)</td>\n",
       "      <td>37.786375</td>\n",
       "      <td>-122.404904</td>\n",
       "      <td>5905</td>\n",
       "      <td>Customer</td>\n",
       "      <td>1972.0</td>\n",
       "      <td>Male</td>\n",
       "      <td>No</td>\n",
       "    </tr>\n",
       "    <tr>\n",
       "      <th>3</th>\n",
       "      <td>36490</td>\n",
       "      <td>2019-02-28 17:54:26.0100</td>\n",
       "      <td>2019-03-01 04:02:36.8420</td>\n",
       "      <td>375.0</td>\n",
       "      <td>Grove St at Masonic Ave</td>\n",
       "      <td>37.774836</td>\n",
       "      <td>-122.446546</td>\n",
       "      <td>70.0</td>\n",
       "      <td>Central Ave at Fell St</td>\n",
       "      <td>37.773311</td>\n",
       "      <td>-122.444293</td>\n",
       "      <td>6638</td>\n",
       "      <td>Subscriber</td>\n",
       "      <td>1989.0</td>\n",
       "      <td>Other</td>\n",
       "      <td>No</td>\n",
       "    </tr>\n",
       "    <tr>\n",
       "      <th>4</th>\n",
       "      <td>1585</td>\n",
       "      <td>2019-02-28 23:54:18.5490</td>\n",
       "      <td>2019-03-01 00:20:44.0740</td>\n",
       "      <td>7.0</td>\n",
       "      <td>Frank H Ogawa Plaza</td>\n",
       "      <td>37.804562</td>\n",
       "      <td>-122.271738</td>\n",
       "      <td>222.0</td>\n",
       "      <td>10th Ave at E 15th St</td>\n",
       "      <td>37.792714</td>\n",
       "      <td>-122.248780</td>\n",
       "      <td>4898</td>\n",
       "      <td>Subscriber</td>\n",
       "      <td>1974.0</td>\n",
       "      <td>Male</td>\n",
       "      <td>Yes</td>\n",
       "    </tr>\n",
       "  </tbody>\n",
       "</table>\n",
       "</div>"
      ],
      "text/plain": [
       "   duration_sec                start_time                  end_time  \\\n",
       "0         52185  2019-02-28 17:32:10.1450  2019-03-01 08:01:55.9750   \n",
       "1         42521  2019-02-28 18:53:21.7890  2019-03-01 06:42:03.0560   \n",
       "2         61854  2019-02-28 12:13:13.2180  2019-03-01 05:24:08.1460   \n",
       "3         36490  2019-02-28 17:54:26.0100  2019-03-01 04:02:36.8420   \n",
       "4          1585  2019-02-28 23:54:18.5490  2019-03-01 00:20:44.0740   \n",
       "\n",
       "   start_station_id                                start_station_name  \\\n",
       "0              21.0  Montgomery St BART Station (Market St at 2nd St)   \n",
       "1              23.0                     The Embarcadero at Steuart St   \n",
       "2              86.0                           Market St at Dolores St   \n",
       "3             375.0                           Grove St at Masonic Ave   \n",
       "4               7.0                               Frank H Ogawa Plaza   \n",
       "\n",
       "   start_station_latitude  start_station_longitude  end_station_id  \\\n",
       "0               37.789625              -122.400811            13.0   \n",
       "1               37.791464              -122.391034            81.0   \n",
       "2               37.769305              -122.426826             3.0   \n",
       "3               37.774836              -122.446546            70.0   \n",
       "4               37.804562              -122.271738           222.0   \n",
       "\n",
       "                               end_station_name  end_station_latitude  \\\n",
       "0                Commercial St at Montgomery St             37.794231   \n",
       "1                            Berry St at 4th St             37.775880   \n",
       "2  Powell St BART Station (Market St at 4th St)             37.786375   \n",
       "3                        Central Ave at Fell St             37.773311   \n",
       "4                         10th Ave at E 15th St             37.792714   \n",
       "\n",
       "   end_station_longitude  bike_id   user_type  member_birth_year  \\\n",
       "0            -122.402923     4902    Customer             1984.0   \n",
       "1            -122.393170     2535    Customer                NaN   \n",
       "2            -122.404904     5905    Customer             1972.0   \n",
       "3            -122.444293     6638  Subscriber             1989.0   \n",
       "4            -122.248780     4898  Subscriber             1974.0   \n",
       "\n",
       "  member_gender bike_share_for_all_trip  \n",
       "0          Male                      No  \n",
       "1           NaN                      No  \n",
       "2          Male                      No  \n",
       "3         Other                      No  \n",
       "4          Male                     Yes  "
      ]
     },
     "execution_count": 12,
     "metadata": {},
     "output_type": "execute_result"
    }
   ],
   "source": [
    "df_clean.head(5)"
   ]
  },
  {
   "cell_type": "markdown",
   "metadata": {},
   "source": [
    "### Changing the data type of some columns of our dataframe"
   ]
  },
  {
   "cell_type": "code",
   "execution_count": 13,
   "metadata": {
    "scrolled": true
   },
   "outputs": [],
   "source": [
    "def ten_first_caractere (time):\n",
    "    try:\n",
    "        time= time.split(\" \")[0]\n",
    "        return time\n",
    "    except:\n",
    "        return np.NaN"
   ]
  },
  {
   "cell_type": "code",
   "execution_count": 14,
   "metadata": {},
   "outputs": [],
   "source": [
    "df_clean['start_time']=df_clean['start_time'].apply(ten_first_caractere)\n",
    "df_clean['end_time']=df_clean['end_time'].apply(ten_first_caractere)"
   ]
  },
  {
   "cell_type": "code",
   "execution_count": 15,
   "metadata": {},
   "outputs": [
    {
     "name": "stdout",
     "output_type": "stream",
     "text": [
      "Column cleaning \n",
      "\n",
      "\n",
      "start_time, and end_time are are of object type, we will convert them to date time\n",
      "\n",
      "member_birth_year is of type float, we will convert it to int\n",
      "\n",
      "The column bike_share_for_all_trip is of type object. It is qualitative and nominal. It contains two distinct values. We will convert it into a categorical variable\n",
      "\n",
      "The column user_type is of type object. It is qualitative and nominal. It contains two distinct values. We will convert it into a categorical variable\n"
     ]
    }
   ],
   "source": [
    "# \n",
    "print(\"Column cleaning \\n\\n\")\n",
    "print(\"start_time, and end_time are are of object type, we will convert them to date time\") \n",
    "print(\"\\nmember_birth_year is of type float, we will convert it to int\")\n",
    "print(\"\\nThe column bike_share_for_all_trip is of type object. It is qualitative and nominal. It contains two distinct values. We will convert it into a categorical variable\")\n",
    "print(\"\\nThe column user_type is of type object. It is qualitative and nominal. It contains two distinct values. We will convert it into a categorical variable\")\n",
    "\n",
    "\n",
    "col_updt_type=['start_time','end_time','bike_share_for_all_trip','user_type','member_gender','member_birth_year','end_station_id','start_station_id']\n",
    "type_updt=['datetime64','datetime64','category','category','category','Int64','Int64','Int64']\n",
    "\n",
    "\n",
    "for i in range(0,8,1):\n",
    "    df_clean[col_updt_type[i]]=df_clean[col_updt_type[i]].astype(type_updt[i])"
   ]
  },
  {
   "cell_type": "markdown",
   "metadata": {},
   "source": [
    "## Our df is clean and ready for analysis"
   ]
  },
  {
   "cell_type": "code",
   "execution_count": 16,
   "metadata": {},
   "outputs": [
    {
     "name": "stdout",
     "output_type": "stream",
     "text": [
      "Display the caracteristic of df_clean\n",
      "\n",
      "\n",
      "Nombre de ligne :  183215\n",
      "\n",
      "Nombre de colonne:  16\n",
      "\n",
      "Liste des colonnes: \n",
      "Index(['duration_sec', 'start_time', 'end_time', 'start_station_id',\n",
      "       'start_station_name', 'start_station_latitude',\n",
      "       'start_station_longitude', 'end_station_id', 'end_station_name',\n",
      "       'end_station_latitude', 'end_station_longitude', 'bike_id', 'user_type',\n",
      "       'member_birth_year', 'member_gender', 'bike_share_for_all_trip'],\n",
      "      dtype='object')\n"
     ]
    }
   ],
   "source": [
    "dim=df_clean.shape\n",
    "print(\"Display the caracteristic of df_clean\\n\")\n",
    "print(\"\\nNombre de ligne : \", dim[0])\n",
    "print(\"\\nNombre de colonne: \", dim[1])\n",
    "print('\\nListe des colonnes: ')\n",
    "print(df_clean.columns)"
   ]
  },
  {
   "cell_type": "markdown",
   "metadata": {},
   "source": [
    "### What is the structure of your dataset?\n",
    "\n",
    "> The 2019 fordbike dataset which has undergone data wrangling, currently has 183,215 rows and 16 columns\n",
    "\n",
    "### What is/are the main feature(s) of interest in your dataset?\n",
    "\n",
    "> Several are the interesting features of our data set. For the orientation of my analysis on this dataframe, the following columns are of interest:\n",
    "duration_sec, start_time,  user_type, start_station_id, end_station_id,start_station_latitude,start_station_longitude,end_station_latitude,end_station_longitude\n",
    "\n",
    "### What features in the dataset do you think will help support your investigation into your feature(s) of interest?\n",
    "\n",
    "> Another dataset that will focus on the professional activities of the user_id in order to see the profiles of those who most often use the products of fordBike"
   ]
  },
  {
   "cell_type": "markdown",
   "metadata": {},
   "source": [
    "### Quelques questions sur lesquelles porteront l'analyse\n",
    "- What is the category of user who has used fordbike 2019 products for the longest time?\n",
    "- When are most trips taken in terms of time of day, day of the week, or month of the year?\n",
    "(Quand la plupart des trajets sont-ils effectués en termes d'heure de la journée, de jour de la semaine ou de mois de l'année ?)\n",
    "- How long does the average trip take?\n",
    "(- Combien de temps dure le trajet moyen ?)\n",
    "- How long does a journey take on average according to the category of users?\n",
    "- Which age group uses the fordbike bicycle system the most?\n",
    "- The youngest? The oldest?\n",
    "- What are the stations that are the most for the start of the bicycle races?\n",
    "- What are the stations that are the most for the end of the bicycle races?"
   ]
  },
  {
   "cell_type": "markdown",
   "metadata": {},
   "source": [
    "## Summary statistical description on the df_clean data frame"
   ]
  },
  {
   "cell_type": "code",
   "execution_count": 17,
   "metadata": {
    "scrolled": true
   },
   "outputs": [
    {
     "data": {
      "text/html": [
       "<div>\n",
       "<style scoped>\n",
       "    .dataframe tbody tr th:only-of-type {\n",
       "        vertical-align: middle;\n",
       "    }\n",
       "\n",
       "    .dataframe tbody tr th {\n",
       "        vertical-align: top;\n",
       "    }\n",
       "\n",
       "    .dataframe thead th {\n",
       "        text-align: right;\n",
       "    }\n",
       "</style>\n",
       "<table border=\"1\" class=\"dataframe\">\n",
       "  <thead>\n",
       "    <tr style=\"text-align: right;\">\n",
       "      <th></th>\n",
       "      <th>duration_sec</th>\n",
       "      <th>start_station_id</th>\n",
       "      <th>start_station_latitude</th>\n",
       "      <th>start_station_longitude</th>\n",
       "      <th>end_station_id</th>\n",
       "      <th>end_station_latitude</th>\n",
       "      <th>end_station_longitude</th>\n",
       "      <th>bike_id</th>\n",
       "      <th>member_birth_year</th>\n",
       "    </tr>\n",
       "  </thead>\n",
       "  <tbody>\n",
       "    <tr>\n",
       "      <th>count</th>\n",
       "      <td>183215.000000</td>\n",
       "      <td>183215.000000</td>\n",
       "      <td>183215.000000</td>\n",
       "      <td>183215.000000</td>\n",
       "      <td>183215.000000</td>\n",
       "      <td>183215.000000</td>\n",
       "      <td>183215.000000</td>\n",
       "      <td>183215.000000</td>\n",
       "      <td>174952.000000</td>\n",
       "    </tr>\n",
       "    <tr>\n",
       "      <th>mean</th>\n",
       "      <td>725.902017</td>\n",
       "      <td>138.590427</td>\n",
       "      <td>37.771615</td>\n",
       "      <td>-122.353104</td>\n",
       "      <td>136.249123</td>\n",
       "      <td>37.771820</td>\n",
       "      <td>-122.352689</td>\n",
       "      <td>4473.218792</td>\n",
       "      <td>1984.803135</td>\n",
       "    </tr>\n",
       "    <tr>\n",
       "      <th>std</th>\n",
       "      <td>1795.078654</td>\n",
       "      <td>111.778864</td>\n",
       "      <td>0.098914</td>\n",
       "      <td>0.116387</td>\n",
       "      <td>111.515131</td>\n",
       "      <td>0.098819</td>\n",
       "      <td>0.115961</td>\n",
       "      <td>1665.249372</td>\n",
       "      <td>10.118731</td>\n",
       "    </tr>\n",
       "    <tr>\n",
       "      <th>min</th>\n",
       "      <td>61.000000</td>\n",
       "      <td>3.000000</td>\n",
       "      <td>37.317298</td>\n",
       "      <td>-122.453704</td>\n",
       "      <td>3.000000</td>\n",
       "      <td>37.317298</td>\n",
       "      <td>-122.453704</td>\n",
       "      <td>11.000000</td>\n",
       "      <td>1878.000000</td>\n",
       "    </tr>\n",
       "    <tr>\n",
       "      <th>25%</th>\n",
       "      <td>325.000000</td>\n",
       "      <td>47.000000</td>\n",
       "      <td>37.770407</td>\n",
       "      <td>-122.412408</td>\n",
       "      <td>44.000000</td>\n",
       "      <td>37.770407</td>\n",
       "      <td>-122.411726</td>\n",
       "      <td>3777.000000</td>\n",
       "      <td>1980.000000</td>\n",
       "    </tr>\n",
       "    <tr>\n",
       "      <th>50%</th>\n",
       "      <td>514.000000</td>\n",
       "      <td>104.000000</td>\n",
       "      <td>37.780760</td>\n",
       "      <td>-122.398285</td>\n",
       "      <td>100.000000</td>\n",
       "      <td>37.781010</td>\n",
       "      <td>-122.398279</td>\n",
       "      <td>4958.000000</td>\n",
       "      <td>1987.000000</td>\n",
       "    </tr>\n",
       "    <tr>\n",
       "      <th>75%</th>\n",
       "      <td>796.000000</td>\n",
       "      <td>239.000000</td>\n",
       "      <td>37.797280</td>\n",
       "      <td>-122.287180</td>\n",
       "      <td>235.000000</td>\n",
       "      <td>37.797320</td>\n",
       "      <td>-122.288665</td>\n",
       "      <td>5503.000000</td>\n",
       "      <td>1992.000000</td>\n",
       "    </tr>\n",
       "    <tr>\n",
       "      <th>max</th>\n",
       "      <td>85444.000000</td>\n",
       "      <td>398.000000</td>\n",
       "      <td>37.880222</td>\n",
       "      <td>-121.874119</td>\n",
       "      <td>398.000000</td>\n",
       "      <td>37.880222</td>\n",
       "      <td>-121.874119</td>\n",
       "      <td>6645.000000</td>\n",
       "      <td>2001.000000</td>\n",
       "    </tr>\n",
       "  </tbody>\n",
       "</table>\n",
       "</div>"
      ],
      "text/plain": [
       "        duration_sec  start_station_id  start_station_latitude  \\\n",
       "count  183215.000000     183215.000000           183215.000000   \n",
       "mean      725.902017        138.590427               37.771615   \n",
       "std      1795.078654        111.778864                0.098914   \n",
       "min        61.000000          3.000000               37.317298   \n",
       "25%       325.000000         47.000000               37.770407   \n",
       "50%       514.000000        104.000000               37.780760   \n",
       "75%       796.000000        239.000000               37.797280   \n",
       "max     85444.000000        398.000000               37.880222   \n",
       "\n",
       "       start_station_longitude  end_station_id  end_station_latitude  \\\n",
       "count            183215.000000   183215.000000         183215.000000   \n",
       "mean               -122.353104      136.249123             37.771820   \n",
       "std                   0.116387      111.515131              0.098819   \n",
       "min                -122.453704        3.000000             37.317298   \n",
       "25%                -122.412408       44.000000             37.770407   \n",
       "50%                -122.398285      100.000000             37.781010   \n",
       "75%                -122.287180      235.000000             37.797320   \n",
       "max                -121.874119      398.000000             37.880222   \n",
       "\n",
       "       end_station_longitude        bike_id  member_birth_year  \n",
       "count          183215.000000  183215.000000      174952.000000  \n",
       "mean             -122.352689    4473.218792        1984.803135  \n",
       "std                 0.115961    1665.249372          10.118731  \n",
       "min              -122.453704      11.000000        1878.000000  \n",
       "25%              -122.411726    3777.000000        1980.000000  \n",
       "50%              -122.398279    4958.000000        1987.000000  \n",
       "75%              -122.288665    5503.000000        1992.000000  \n",
       "max              -121.874119    6645.000000        2001.000000  "
      ]
     },
     "execution_count": 17,
     "metadata": {},
     "output_type": "execute_result"
    }
   ],
   "source": [
    "df_clean.describe()"
   ]
  },
  {
   "cell_type": "markdown",
   "metadata": {},
   "source": [
    "### Remark.\n",
    "### Our dataset has a problem. An average calculation should not be applied to the start_station_id, start_station_latitude, start_station_longitude, end_station_id, end_station_latitude, end_station_longitude, bike_id and member_birth_year columns.\n",
    "### By default, as these columns are of quantitative type, the summary and descriptive statistics apply to them.\n",
    "### We need to bring them back to object type, because applying summary and descriptive statistics on such columns is bad.\n",
    "\n",
    "## Let's convert them to an object"
   ]
  },
  {
   "cell_type": "code",
   "execution_count": 18,
   "metadata": {},
   "outputs": [],
   "source": [
    "def convert_to_objet(list_col):\n",
    "    for i in range(0,len(list_col),1):\n",
    "        df_clean[list_col[i]]=df_clean[list_col[i]].astype('object')"
   ]
  },
  {
   "cell_type": "code",
   "execution_count": 19,
   "metadata": {},
   "outputs": [],
   "source": [
    "list_col=['start_station_id','start_station_latitude','start_station_longitude','end_station_id','end_station_latitude','end_station_longitude','bike_id','member_birth_year']\n",
    "convert_to_objet(list_col)"
   ]
  },
  {
   "cell_type": "code",
   "execution_count": 20,
   "metadata": {},
   "outputs": [
    {
     "name": "stdout",
     "output_type": "stream",
     "text": [
      "<class 'pandas.core.frame.DataFrame'>\n",
      "Int64Index: 183215 entries, 0 to 183411\n",
      "Data columns (total 16 columns):\n",
      " #   Column                   Non-Null Count   Dtype         \n",
      "---  ------                   --------------   -----         \n",
      " 0   duration_sec             183215 non-null  int64         \n",
      " 1   start_time               183215 non-null  datetime64[ns]\n",
      " 2   end_time                 183215 non-null  datetime64[ns]\n",
      " 3   start_station_id         183215 non-null  object        \n",
      " 4   start_station_name       183215 non-null  object        \n",
      " 5   start_station_latitude   183215 non-null  object        \n",
      " 6   start_station_longitude  183215 non-null  object        \n",
      " 7   end_station_id           183215 non-null  object        \n",
      " 8   end_station_name         183215 non-null  object        \n",
      " 9   end_station_latitude     183215 non-null  object        \n",
      " 10  end_station_longitude    183215 non-null  object        \n",
      " 11  bike_id                  183215 non-null  object        \n",
      " 12  user_type                183215 non-null  category      \n",
      " 13  member_birth_year        174952 non-null  object        \n",
      " 14  member_gender            174952 non-null  category      \n",
      " 15  bike_share_for_all_trip  183215 non-null  category      \n",
      "dtypes: category(3), datetime64[ns](2), int64(1), object(10)\n",
      "memory usage: 20.1+ MB\n"
     ]
    }
   ],
   "source": [
    "df_clean.info()"
   ]
  },
  {
   "cell_type": "markdown",
   "metadata": {},
   "source": [
    "### We need to know the months when there is more use of ford bicycles\n",
    "### We also need to know the days when cycling trips are most in demand.\n",
    "### For this, we are going to focus on start_time, and from this column, we are going to retrieve the month and the day with the dt.month_name method (to have the name of the month of each start_time) and dt.day_name()\n",
    "### Let's create these two columns"
   ]
  },
  {
   "cell_type": "code",
   "execution_count": 21,
   "metadata": {},
   "outputs": [
    {
     "name": "stdout",
     "output_type": "stream",
     "text": [
      "Nous remarquons que deux colonnes respectivement start_month et start_day sont bien crée et contiennet exactement respectivement le nom du mois, le jour de chaque start_time correspondant.\n",
      "\n",
      "Nice. Vive la class dt\n"
     ]
    },
    {
     "data": {
      "text/html": [
       "<div>\n",
       "<style scoped>\n",
       "    .dataframe tbody tr th:only-of-type {\n",
       "        vertical-align: middle;\n",
       "    }\n",
       "\n",
       "    .dataframe tbody tr th {\n",
       "        vertical-align: top;\n",
       "    }\n",
       "\n",
       "    .dataframe thead th {\n",
       "        text-align: right;\n",
       "    }\n",
       "</style>\n",
       "<table border=\"1\" class=\"dataframe\">\n",
       "  <thead>\n",
       "    <tr style=\"text-align: right;\">\n",
       "      <th></th>\n",
       "      <th>duration_sec</th>\n",
       "      <th>start_time</th>\n",
       "      <th>end_time</th>\n",
       "      <th>start_station_id</th>\n",
       "      <th>start_station_name</th>\n",
       "      <th>start_station_latitude</th>\n",
       "      <th>start_station_longitude</th>\n",
       "      <th>end_station_id</th>\n",
       "      <th>end_station_name</th>\n",
       "      <th>end_station_latitude</th>\n",
       "      <th>end_station_longitude</th>\n",
       "      <th>bike_id</th>\n",
       "      <th>user_type</th>\n",
       "      <th>member_birth_year</th>\n",
       "      <th>member_gender</th>\n",
       "      <th>bike_share_for_all_trip</th>\n",
       "      <th>start_month</th>\n",
       "      <th>start_day</th>\n",
       "    </tr>\n",
       "  </thead>\n",
       "  <tbody>\n",
       "    <tr>\n",
       "      <th>0</th>\n",
       "      <td>52185</td>\n",
       "      <td>2019-02-28</td>\n",
       "      <td>2019-03-01</td>\n",
       "      <td>21</td>\n",
       "      <td>Montgomery St BART Station (Market St at 2nd St)</td>\n",
       "      <td>37.789625</td>\n",
       "      <td>-122.400811</td>\n",
       "      <td>13</td>\n",
       "      <td>Commercial St at Montgomery St</td>\n",
       "      <td>37.794231</td>\n",
       "      <td>-122.402923</td>\n",
       "      <td>4902</td>\n",
       "      <td>Customer</td>\n",
       "      <td>1984</td>\n",
       "      <td>Male</td>\n",
       "      <td>No</td>\n",
       "      <td>February</td>\n",
       "      <td>Thursday</td>\n",
       "    </tr>\n",
       "    <tr>\n",
       "      <th>1</th>\n",
       "      <td>42521</td>\n",
       "      <td>2019-02-28</td>\n",
       "      <td>2019-03-01</td>\n",
       "      <td>23</td>\n",
       "      <td>The Embarcadero at Steuart St</td>\n",
       "      <td>37.791464</td>\n",
       "      <td>-122.391034</td>\n",
       "      <td>81</td>\n",
       "      <td>Berry St at 4th St</td>\n",
       "      <td>37.77588</td>\n",
       "      <td>-122.39317</td>\n",
       "      <td>2535</td>\n",
       "      <td>Customer</td>\n",
       "      <td>&lt;NA&gt;</td>\n",
       "      <td>NaN</td>\n",
       "      <td>No</td>\n",
       "      <td>February</td>\n",
       "      <td>Thursday</td>\n",
       "    </tr>\n",
       "    <tr>\n",
       "      <th>2</th>\n",
       "      <td>61854</td>\n",
       "      <td>2019-02-28</td>\n",
       "      <td>2019-03-01</td>\n",
       "      <td>86</td>\n",
       "      <td>Market St at Dolores St</td>\n",
       "      <td>37.769305</td>\n",
       "      <td>-122.426826</td>\n",
       "      <td>3</td>\n",
       "      <td>Powell St BART Station (Market St at 4th St)</td>\n",
       "      <td>37.786375</td>\n",
       "      <td>-122.404904</td>\n",
       "      <td>5905</td>\n",
       "      <td>Customer</td>\n",
       "      <td>1972</td>\n",
       "      <td>Male</td>\n",
       "      <td>No</td>\n",
       "      <td>February</td>\n",
       "      <td>Thursday</td>\n",
       "    </tr>\n",
       "    <tr>\n",
       "      <th>3</th>\n",
       "      <td>36490</td>\n",
       "      <td>2019-02-28</td>\n",
       "      <td>2019-03-01</td>\n",
       "      <td>375</td>\n",
       "      <td>Grove St at Masonic Ave</td>\n",
       "      <td>37.774836</td>\n",
       "      <td>-122.446546</td>\n",
       "      <td>70</td>\n",
       "      <td>Central Ave at Fell St</td>\n",
       "      <td>37.773311</td>\n",
       "      <td>-122.444293</td>\n",
       "      <td>6638</td>\n",
       "      <td>Subscriber</td>\n",
       "      <td>1989</td>\n",
       "      <td>Other</td>\n",
       "      <td>No</td>\n",
       "      <td>February</td>\n",
       "      <td>Thursday</td>\n",
       "    </tr>\n",
       "    <tr>\n",
       "      <th>4</th>\n",
       "      <td>1585</td>\n",
       "      <td>2019-02-28</td>\n",
       "      <td>2019-03-01</td>\n",
       "      <td>7</td>\n",
       "      <td>Frank H Ogawa Plaza</td>\n",
       "      <td>37.804562</td>\n",
       "      <td>-122.271738</td>\n",
       "      <td>222</td>\n",
       "      <td>10th Ave at E 15th St</td>\n",
       "      <td>37.792714</td>\n",
       "      <td>-122.24878</td>\n",
       "      <td>4898</td>\n",
       "      <td>Subscriber</td>\n",
       "      <td>1974</td>\n",
       "      <td>Male</td>\n",
       "      <td>Yes</td>\n",
       "      <td>February</td>\n",
       "      <td>Thursday</td>\n",
       "    </tr>\n",
       "  </tbody>\n",
       "</table>\n",
       "</div>"
      ],
      "text/plain": [
       "   duration_sec start_time   end_time start_station_id  \\\n",
       "0         52185 2019-02-28 2019-03-01               21   \n",
       "1         42521 2019-02-28 2019-03-01               23   \n",
       "2         61854 2019-02-28 2019-03-01               86   \n",
       "3         36490 2019-02-28 2019-03-01              375   \n",
       "4          1585 2019-02-28 2019-03-01                7   \n",
       "\n",
       "                                 start_station_name start_station_latitude  \\\n",
       "0  Montgomery St BART Station (Market St at 2nd St)              37.789625   \n",
       "1                     The Embarcadero at Steuart St              37.791464   \n",
       "2                           Market St at Dolores St              37.769305   \n",
       "3                           Grove St at Masonic Ave              37.774836   \n",
       "4                               Frank H Ogawa Plaza              37.804562   \n",
       "\n",
       "  start_station_longitude end_station_id  \\\n",
       "0             -122.400811             13   \n",
       "1             -122.391034             81   \n",
       "2             -122.426826              3   \n",
       "3             -122.446546             70   \n",
       "4             -122.271738            222   \n",
       "\n",
       "                               end_station_name end_station_latitude  \\\n",
       "0                Commercial St at Montgomery St            37.794231   \n",
       "1                            Berry St at 4th St             37.77588   \n",
       "2  Powell St BART Station (Market St at 4th St)            37.786375   \n",
       "3                        Central Ave at Fell St            37.773311   \n",
       "4                         10th Ave at E 15th St            37.792714   \n",
       "\n",
       "  end_station_longitude bike_id   user_type member_birth_year member_gender  \\\n",
       "0           -122.402923    4902    Customer              1984          Male   \n",
       "1            -122.39317    2535    Customer              <NA>           NaN   \n",
       "2           -122.404904    5905    Customer              1972          Male   \n",
       "3           -122.444293    6638  Subscriber              1989         Other   \n",
       "4            -122.24878    4898  Subscriber              1974          Male   \n",
       "\n",
       "  bike_share_for_all_trip start_month start_day  \n",
       "0                      No    February  Thursday  \n",
       "1                      No    February  Thursday  \n",
       "2                      No    February  Thursday  \n",
       "3                      No    February  Thursday  \n",
       "4                     Yes    February  Thursday  "
      ]
     },
     "execution_count": 21,
     "metadata": {},
     "output_type": "execute_result"
    }
   ],
   "source": [
    "df_clean['start_month']=df_clean['start_time'].dt.month_name()\n",
    "\n",
    "df_clean['start_day']=df_clean['start_time'].dt.day_name()\n",
    "print(\"Nous remarquons que deux colonnes respectivement start_month et start_day sont bien crée et contiennet exactement respectivement le nom du mois, le jour de chaque start_time correspondant.\\n\")\n",
    "print('Nice. Vive la class dt')\n",
    "df_clean.head()\n"
   ]
  },
  {
   "cell_type": "code",
   "execution_count": 22,
   "metadata": {},
   "outputs": [
    {
     "data": {
      "text/html": [
       "<div>\n",
       "<style scoped>\n",
       "    .dataframe tbody tr th:only-of-type {\n",
       "        vertical-align: middle;\n",
       "    }\n",
       "\n",
       "    .dataframe tbody tr th {\n",
       "        vertical-align: top;\n",
       "    }\n",
       "\n",
       "    .dataframe thead th {\n",
       "        text-align: right;\n",
       "    }\n",
       "</style>\n",
       "<table border=\"1\" class=\"dataframe\">\n",
       "  <thead>\n",
       "    <tr style=\"text-align: right;\">\n",
       "      <th></th>\n",
       "      <th>duration_sec</th>\n",
       "    </tr>\n",
       "  </thead>\n",
       "  <tbody>\n",
       "    <tr>\n",
       "      <th>count</th>\n",
       "      <td>183215.000000</td>\n",
       "    </tr>\n",
       "    <tr>\n",
       "      <th>mean</th>\n",
       "      <td>725.902017</td>\n",
       "    </tr>\n",
       "    <tr>\n",
       "      <th>std</th>\n",
       "      <td>1795.078654</td>\n",
       "    </tr>\n",
       "    <tr>\n",
       "      <th>min</th>\n",
       "      <td>61.000000</td>\n",
       "    </tr>\n",
       "    <tr>\n",
       "      <th>25%</th>\n",
       "      <td>325.000000</td>\n",
       "    </tr>\n",
       "    <tr>\n",
       "      <th>50%</th>\n",
       "      <td>514.000000</td>\n",
       "    </tr>\n",
       "    <tr>\n",
       "      <th>75%</th>\n",
       "      <td>796.000000</td>\n",
       "    </tr>\n",
       "    <tr>\n",
       "      <th>max</th>\n",
       "      <td>85444.000000</td>\n",
       "    </tr>\n",
       "  </tbody>\n",
       "</table>\n",
       "</div>"
      ],
      "text/plain": [
       "        duration_sec\n",
       "count  183215.000000\n",
       "mean      725.902017\n",
       "std      1795.078654\n",
       "min        61.000000\n",
       "25%       325.000000\n",
       "50%       514.000000\n",
       "75%       796.000000\n",
       "max     85444.000000"
      ]
     },
     "execution_count": 22,
     "metadata": {},
     "output_type": "execute_result"
    }
   ],
   "source": [
    "df_clean.describe()"
   ]
  },
  {
   "cell_type": "markdown",
   "metadata": {},
   "source": [
    "## Avons nous de valeur abberante dans la colonne age"
   ]
  },
  {
   "cell_type": "code",
   "execution_count": 23,
   "metadata": {},
   "outputs": [
    {
     "data": {
      "text/plain": [
       "''"
      ]
     },
     "execution_count": 23,
     "metadata": {},
     "output_type": "execute_result"
    },
    {
     "data": {
      "image/png": "[encoded data removed]",
      "text/plain": [
       "<Figure size 432x288 with 1 Axes>"
      ]
     },
     "metadata": {
      "needs_background": "light"
     },
     "output_type": "display_data"
    }
   ],
   "source": [
    "df_clean['member_birth_year'].hist()\n",
    "plt.xlabel('member birth year')\n",
    "plt.ylabel('count')\n",
    "plt.title('Histogramme sur member birth year')\n",
    ";"
   ]
  },
  {
   "cell_type": "markdown",
   "metadata": {},
   "source": [
    "### <p style='color:red'>Conclusion</p>\n",
    "### On this dataset we notice that Ford GoBike system has many customers in 2019 who use its system whose age group is [1978,2001]"
   ]
  },
  {
   "cell_type": "markdown",
   "metadata": {},
   "source": [
    "### Conclusion\n",
    "### From the result of the statistics summary, we deduce that on average the duration of a trip is 725.90 seconds or min. The minimum, maximum duration is 61 seconds and 85444 seconds respectively"
   ]
  },
  {
   "cell_type": "markdown",
   "metadata": {},
   "source": [
    "## Univariate Exploration\n",
    "\n",
    "> In this section, investigate distributions of individual variables. If\n",
    "you see unusual points or outliers, take a deeper look to clean things up\n",
    "and prepare yourself to look at relationships between variables.\n",
    "\n",
    "\n",
    "> **Rubric Tip**: The project (Parts I alone) should have at least 15 visualizations distributed over univariate, bivariate, and multivariate plots to explore many relationships in the data set.  Use reasoning to justify the flow of the exploration.\n",
    "\n",
    "\n",
    "\n",
    ">**Rubric Tip**: Use the \"Question-Visualization-Observations\" framework  throughout the exploration. This framework involves **asking a question from the data, creating a visualization to find answers, and then recording observations after each visualisation.** \n"
   ]
  },
  {
   "cell_type": "markdown",
   "metadata": {},
   "source": [
    "### <p style='color:red'> Question1 </p>\n",
    "### Number of different stations recorded where a trip started.\n",
    "### <p style='text-decoration:underline'> Code</p>"
   ]
  },
  {
   "cell_type": "code",
   "execution_count": 24,
   "metadata": {},
   "outputs": [
    {
     "name": "stdout",
     "output_type": "stream",
     "text": [
      "\n",
      "Number of different stations recorded where a trip started is :  329\n",
      "\n",
      "Number of different stations recorded where a trip ended is :  329\n",
      "\n",
      "Let's check if the station ids seen at the start level are all also at the end station level.\n",
      "\n",
      "Ordered list of all start station id and all end station id.\n",
      "\n",
      "Let's compare these two lists.\n",
      "\n",
      "The id at start station id are the same as at end station.\n"
     ]
    }
   ],
   "source": [
    "unique_start_id=df_clean['start_station_id'].unique()\n",
    "unique_end_id=df_clean['end_station_id'].unique()\n",
    "print('\\nNumber of different stations recorded where a trip started is : ',df_clean['start_station_id'].nunique())\n",
    "print('\\nNumber of different stations recorded where a trip ended is : ',df_clean['end_station_id'].nunique())\n",
    "\n",
    "print(\"\\nLet's check if the station ids seen at the start level are all also at the end station level.\")\n",
    "print(\"\\nOrdered list of all start station id and all end station id.\")\n",
    "print(\"\\nLet's compare these two lists.\")\n",
    "cp_unique_start_id=unique_start_id\n",
    "cp_unique_end_id=unique_end_id\n",
    "cp_unique_start_id.sort()\n",
    "cp_unique_end_id.sort()\n",
    "unique_start_id\n",
    "\n",
    "#if (unique_start_id==unique_end_id)\n",
    "    \n",
    "    \n",
    "print(\"\\nThe id at start station id are the same as at end station.\")"
   ]
  },
  {
   "cell_type": "markdown",
   "metadata": {},
   "source": [
    "### <p style='color:red'> Conclusion1 : </p>\n",
    "### All the trip departure station IDs are all present at the trip end stations. And vice versa.\n",
    "### This leads us to conclude that all start station ids are used for end of trip stations. Sometimes a station serves as a departure for a journey, sometimes it serves as a destination for a journey."
   ]
  },
  {
   "cell_type": "markdown",
   "metadata": {},
   "source": [
    "### <p style='color:red'>Question 2</p>\n",
    "### Top 10 stations with the most starting points for the trip.\n",
    "### <p style='text-decoration: underline'> Code</p>"
   ]
  },
  {
   "cell_type": "code",
   "execution_count": 25,
   "metadata": {},
   "outputs": [],
   "source": [
    "def allInfosTopEndStation(col1,col2):\n",
    "    #Recupération des top 10\n",
    "    top_10 = df_clean[col1].value_counts()[:10]\n",
    "    #Conversion en dataframe\n",
    "    df_top_10=pd.DataFrame(top_10)\n",
    "    #Rénitialisation de l'index avec reset_index puisque le dataframe conçu prend les id de station comme son index\n",
    "    #Alors que nous la voulons comme une colonne.\n",
    "    df_top_10=df_top_10.reset_index()\n",
    "    #Renommage des colonnes du dataframe\n",
    "    df_top_10=df_top_10.rename(columns={'index':'id',col1:'count_trip'})\n",
    "    liste=[]\n",
    "    #Recupération du nom,de la longitude et de la latitude de tous ces top 10 start_id\n",
    "    for i in range(0,len(df_top_10['id']),1):\n",
    "        id_current=df_top_10['id'].iloc[i] \n",
    "        name=df_clean.query('end_station_id == @id_current')[[col2+'_station_name',col2+'_station_longitude',col2+'_station_latitude']][:1] \n",
    "        name_id=name[col2+'_station_name'].iloc[0]\n",
    "        latitude_id= name[col2+'_station_latitude'].iloc[0]\n",
    "        longitude_id= name[col2+'_station_longitude'].iloc[0]\n",
    "        liste.append({'id': id_current, 'name':name_id,'lat':latitude_id,'long':longitude_id,'count_trip':df_top_10['count_trip'].iloc[i]})\n",
    "    return pd.DataFrame (liste)\n"
   ]
  },
  {
   "cell_type": "code",
   "execution_count": 26,
   "metadata": {},
   "outputs": [],
   "source": [
    "def allInfosTopStation(col1,col2):\n",
    "    #Recupération des top 10\n",
    "    top_10 = df_clean[col1].value_counts()[:10]\n",
    "    #Conversion en dataframe\n",
    "    df_top_10=pd.DataFrame(top_10)\n",
    "    #Rénitialisation de l'index avec reset_index puisque le dataframe conçu prend les id de station comme son index\n",
    "    #Alors que nous la voulons comme une colonne.\n",
    "    df_top_10=df_top_10.reset_index()\n",
    "    #Renommage des colonnes du dataframe\n",
    "    df_top_10=df_top_10.rename(columns={'index':'id',col1:'count_trip'})\n",
    "    liste=[]\n",
    "    #Recupération du nom,de la longitude et de la latitude de tous ces top 10 start_id\n",
    "    for i in range(0,len(df_top_10['id']),1):\n",
    "        id_current=df_top_10['id'].iloc[i] \n",
    "        name=df_clean.query('start_station_id == @id_current')[[col2+'_station_name',col2+'_station_longitude',col2+'_station_latitude']][:1] \n",
    "        name_id=name[col2+'_station_name'].iloc[0]\n",
    "        latitude_id= name[col2+'_station_latitude'].iloc[0]\n",
    "        longitude_id= name[col2+'_station_longitude'].iloc[0]\n",
    "        liste.append({'id': id_current, 'name':name_id,'lat':latitude_id,'long':longitude_id,'count_trip':df_top_10['count_trip'].iloc[i]})\n",
    "    return pd.DataFrame (liste)\n"
   ]
  },
  {
   "cell_type": "markdown",
   "metadata": {},
   "source": []
  },
  {
   "cell_type": "code",
   "execution_count": 27,
   "metadata": {
    "scrolled": true
   },
   "outputs": [
    {
     "name": "stdout",
     "output_type": "stream",
     "text": [
      "Voici les 10 stations qui ont été plus de point de départ pour destrajets des customers.\n"
     ]
    },
    {
     "data": {
      "text/html": [
       "<div>\n",
       "<style scoped>\n",
       "    .dataframe tbody tr th:only-of-type {\n",
       "        vertical-align: middle;\n",
       "    }\n",
       "\n",
       "    .dataframe tbody tr th {\n",
       "        vertical-align: top;\n",
       "    }\n",
       "\n",
       "    .dataframe thead th {\n",
       "        text-align: right;\n",
       "    }\n",
       "</style>\n",
       "<table border=\"1\" class=\"dataframe\">\n",
       "  <thead>\n",
       "    <tr style=\"text-align: right;\">\n",
       "      <th></th>\n",
       "      <th>id</th>\n",
       "      <th>name</th>\n",
       "      <th>lat</th>\n",
       "      <th>long</th>\n",
       "      <th>count_trip</th>\n",
       "    </tr>\n",
       "  </thead>\n",
       "  <tbody>\n",
       "    <tr>\n",
       "      <th>0</th>\n",
       "      <td>58</td>\n",
       "      <td>Market St at 10th St</td>\n",
       "      <td>37.776619</td>\n",
       "      <td>-122.417385</td>\n",
       "      <td>3904</td>\n",
       "    </tr>\n",
       "    <tr>\n",
       "      <th>1</th>\n",
       "      <td>67</td>\n",
       "      <td>San Francisco Caltrain Station 2  (Townsend St...</td>\n",
       "      <td>37.776639</td>\n",
       "      <td>-122.395526</td>\n",
       "      <td>3544</td>\n",
       "    </tr>\n",
       "    <tr>\n",
       "      <th>2</th>\n",
       "      <td>81</td>\n",
       "      <td>Berry St at 4th St</td>\n",
       "      <td>37.775880</td>\n",
       "      <td>-122.393170</td>\n",
       "      <td>3052</td>\n",
       "    </tr>\n",
       "    <tr>\n",
       "      <th>3</th>\n",
       "      <td>21</td>\n",
       "      <td>Montgomery St BART Station (Market St at 2nd St)</td>\n",
       "      <td>37.789625</td>\n",
       "      <td>-122.400811</td>\n",
       "      <td>2895</td>\n",
       "    </tr>\n",
       "    <tr>\n",
       "      <th>4</th>\n",
       "      <td>3</td>\n",
       "      <td>Powell St BART Station (Market St at 4th St)</td>\n",
       "      <td>37.786375</td>\n",
       "      <td>-122.404904</td>\n",
       "      <td>2760</td>\n",
       "    </tr>\n",
       "    <tr>\n",
       "      <th>5</th>\n",
       "      <td>15</td>\n",
       "      <td>San Francisco Ferry Building (Harry Bridges Pl...</td>\n",
       "      <td>37.795392</td>\n",
       "      <td>-122.394203</td>\n",
       "      <td>2710</td>\n",
       "    </tr>\n",
       "    <tr>\n",
       "      <th>6</th>\n",
       "      <td>30</td>\n",
       "      <td>San Francisco Caltrain (Townsend St at 4th St)</td>\n",
       "      <td>37.776598</td>\n",
       "      <td>-122.395282</td>\n",
       "      <td>2703</td>\n",
       "    </tr>\n",
       "    <tr>\n",
       "      <th>7</th>\n",
       "      <td>5</td>\n",
       "      <td>Powell St BART Station (Market St at 5th St)</td>\n",
       "      <td>37.783899</td>\n",
       "      <td>-122.408445</td>\n",
       "      <td>2327</td>\n",
       "    </tr>\n",
       "    <tr>\n",
       "      <th>8</th>\n",
       "      <td>22</td>\n",
       "      <td>Howard St at Beale St</td>\n",
       "      <td>37.789756</td>\n",
       "      <td>-122.394643</td>\n",
       "      <td>2293</td>\n",
       "    </tr>\n",
       "    <tr>\n",
       "      <th>9</th>\n",
       "      <td>16</td>\n",
       "      <td>Steuart St at Market St</td>\n",
       "      <td>37.794130</td>\n",
       "      <td>-122.394430</td>\n",
       "      <td>2283</td>\n",
       "    </tr>\n",
       "  </tbody>\n",
       "</table>\n",
       "</div>"
      ],
      "text/plain": [
       "   id                                               name        lat  \\\n",
       "0  58                               Market St at 10th St  37.776619   \n",
       "1  67  San Francisco Caltrain Station 2  (Townsend St...  37.776639   \n",
       "2  81                                 Berry St at 4th St  37.775880   \n",
       "3  21   Montgomery St BART Station (Market St at 2nd St)  37.789625   \n",
       "4   3       Powell St BART Station (Market St at 4th St)  37.786375   \n",
       "5  15  San Francisco Ferry Building (Harry Bridges Pl...  37.795392   \n",
       "6  30     San Francisco Caltrain (Townsend St at 4th St)  37.776598   \n",
       "7   5       Powell St BART Station (Market St at 5th St)  37.783899   \n",
       "8  22                              Howard St at Beale St  37.789756   \n",
       "9  16                            Steuart St at Market St  37.794130   \n",
       "\n",
       "         long  count_trip  \n",
       "0 -122.417385        3904  \n",
       "1 -122.395526        3544  \n",
       "2 -122.393170        3052  \n",
       "3 -122.400811        2895  \n",
       "4 -122.404904        2760  \n",
       "5 -122.394203        2710  \n",
       "6 -122.395282        2703  \n",
       "7 -122.408445        2327  \n",
       "8 -122.394643        2293  \n",
       "9 -122.394430        2283  "
      ]
     },
     "execution_count": 27,
     "metadata": {},
     "output_type": "execute_result"
    }
   ],
   "source": [
    "print(\"Voici les 10 stations qui ont été plus de point de départ pour destrajets des customers.\")\n",
    "allInfosTopStation('start_station_id','start')"
   ]
  },
  {
   "cell_type": "code",
   "execution_count": 28,
   "metadata": {},
   "outputs": [
    {
     "data": {
      "text/plain": [
       "0                                 Market St at 10th St\n",
       "1    San Francisco Caltrain Station 2  (Townsend St...\n",
       "2                                   Berry St at 4th St\n",
       "3     Montgomery St BART Station (Market St at 2nd St)\n",
       "4         Powell St BART Station (Market St at 4th St)\n",
       "5    San Francisco Ferry Building (Harry Bridges Pl...\n",
       "6       San Francisco Caltrain (Townsend St at 4th St)\n",
       "7         Powell St BART Station (Market St at 5th St)\n",
       "8                                Howard St at Beale St\n",
       "9                              Steuart St at Market St\n",
       "Name: name, dtype: object"
      ]
     },
     "execution_count": 28,
     "metadata": {},
     "output_type": "execute_result"
    }
   ],
   "source": [
    "allInfosTopStation('start_station_id','start')['name']"
   ]
  },
  {
   "cell_type": "markdown",
   "metadata": {},
   "source": [
    "### Les stations les plus utilisés pour le start_time en graphe"
   ]
  },
  {
   "cell_type": "code",
   "execution_count": 29,
   "metadata": {},
   "outputs": [
    {
     "data": {
      "image/png": "[encoded data removed]",
      "text/plain": [
       "<Figure size 1224x432 with 1 Axes>"
      ]
     },
     "metadata": {
      "needs_background": "light"
     },
     "output_type": "display_data"
    }
   ],
   "source": [
    "data_info=allInfosTopStation('start_station_id','start')\n",
    "plt.figure(figsize=(17,6))\n",
    "plt.bar(data_info['name'],data_info['count_trip'])\n",
    "plt.xlabel(\"name top 10 start station\")\n",
    "plt.ylabel(\"Count\")\n",
    "plt.title(\"Nombre de fois les top 10 des start staion les plus utilisé sont utilisé avec les name des stations\")\n",
    "plt.xticks(rotation=45);"
   ]
  },
  {
   "cell_type": "code",
   "execution_count": 30,
   "metadata": {},
   "outputs": [
    {
     "data": {
      "image/png": "[encoded data removed]",
      "text/plain": [
       "<Figure size 1224x432 with 1 Axes>"
      ]
     },
     "metadata": {
      "needs_background": "light"
     },
     "output_type": "display_data"
    }
   ],
   "source": [
    "data_info1=allInfosTopEndStation('end_station_id','end')\n",
    "plt.figure(figsize=(17,6))\n",
    "plt.bar(data_info1['name'],data_info1['count_trip'])\n",
    "plt.xlabel(\"name top 10 end station\")\n",
    "plt.ylabel(\"Count\")\n",
    "plt.title(\"Nombre de fois les top 10 des end staion les plus utilisé sont utilisé avec les name des stations\")\n",
    "plt.xticks(rotation=45);"
   ]
  },
  {
   "cell_type": "code",
   "execution_count": 31,
   "metadata": {},
   "outputs": [
    {
     "name": "stdout",
     "output_type": "stream",
     "text": [
      "Voici les 10 stations qui ont été plus de point de destination pour des trajets des customers.\n"
     ]
    },
    {
     "data": {
      "text/html": [
       "<div>\n",
       "<style scoped>\n",
       "    .dataframe tbody tr th:only-of-type {\n",
       "        vertical-align: middle;\n",
       "    }\n",
       "\n",
       "    .dataframe tbody tr th {\n",
       "        vertical-align: top;\n",
       "    }\n",
       "\n",
       "    .dataframe thead th {\n",
       "        text-align: right;\n",
       "    }\n",
       "</style>\n",
       "<table border=\"1\" class=\"dataframe\">\n",
       "  <thead>\n",
       "    <tr style=\"text-align: right;\">\n",
       "      <th></th>\n",
       "      <th>id</th>\n",
       "      <th>name</th>\n",
       "      <th>lat</th>\n",
       "      <th>long</th>\n",
       "      <th>count_trip</th>\n",
       "    </tr>\n",
       "  </thead>\n",
       "  <tbody>\n",
       "    <tr>\n",
       "      <th>0</th>\n",
       "      <td>67</td>\n",
       "      <td>San Francisco Caltrain Station 2  (Townsend St...</td>\n",
       "      <td>37.776639</td>\n",
       "      <td>-122.395526</td>\n",
       "      <td>4857</td>\n",
       "    </tr>\n",
       "    <tr>\n",
       "      <th>1</th>\n",
       "      <td>58</td>\n",
       "      <td>Market St at 10th St</td>\n",
       "      <td>37.776619</td>\n",
       "      <td>-122.417385</td>\n",
       "      <td>3973</td>\n",
       "    </tr>\n",
       "    <tr>\n",
       "      <th>2</th>\n",
       "      <td>21</td>\n",
       "      <td>Montgomery St BART Station (Market St at 2nd St)</td>\n",
       "      <td>37.789625</td>\n",
       "      <td>-122.400811</td>\n",
       "      <td>3647</td>\n",
       "    </tr>\n",
       "    <tr>\n",
       "      <th>3</th>\n",
       "      <td>15</td>\n",
       "      <td>San Francisco Ferry Building (Harry Bridges Pl...</td>\n",
       "      <td>37.795392</td>\n",
       "      <td>-122.394203</td>\n",
       "      <td>3368</td>\n",
       "    </tr>\n",
       "    <tr>\n",
       "      <th>4</th>\n",
       "      <td>3</td>\n",
       "      <td>Powell St BART Station (Market St at 4th St)</td>\n",
       "      <td>37.786375</td>\n",
       "      <td>-122.404904</td>\n",
       "      <td>2997</td>\n",
       "    </tr>\n",
       "    <tr>\n",
       "      <th>5</th>\n",
       "      <td>30</td>\n",
       "      <td>San Francisco Caltrain (Townsend St at 4th St)</td>\n",
       "      <td>37.776598</td>\n",
       "      <td>-122.395282</td>\n",
       "      <td>2947</td>\n",
       "    </tr>\n",
       "    <tr>\n",
       "      <th>6</th>\n",
       "      <td>81</td>\n",
       "      <td>Berry St at 4th St</td>\n",
       "      <td>37.775880</td>\n",
       "      <td>-122.393170</td>\n",
       "      <td>2872</td>\n",
       "    </tr>\n",
       "    <tr>\n",
       "      <th>7</th>\n",
       "      <td>6</td>\n",
       "      <td>The Embarcadero at Sansome St</td>\n",
       "      <td>37.804770</td>\n",
       "      <td>-122.403234</td>\n",
       "      <td>2512</td>\n",
       "    </tr>\n",
       "    <tr>\n",
       "      <th>8</th>\n",
       "      <td>5</td>\n",
       "      <td>Powell St BART Station (Market St at 5th St)</td>\n",
       "      <td>37.783899</td>\n",
       "      <td>-122.408445</td>\n",
       "      <td>2353</td>\n",
       "    </tr>\n",
       "    <tr>\n",
       "      <th>9</th>\n",
       "      <td>16</td>\n",
       "      <td>Steuart St at Market St</td>\n",
       "      <td>37.794130</td>\n",
       "      <td>-122.394430</td>\n",
       "      <td>2338</td>\n",
       "    </tr>\n",
       "  </tbody>\n",
       "</table>\n",
       "</div>"
      ],
      "text/plain": [
       "   id                                               name        lat  \\\n",
       "0  67  San Francisco Caltrain Station 2  (Townsend St...  37.776639   \n",
       "1  58                               Market St at 10th St  37.776619   \n",
       "2  21   Montgomery St BART Station (Market St at 2nd St)  37.789625   \n",
       "3  15  San Francisco Ferry Building (Harry Bridges Pl...  37.795392   \n",
       "4   3       Powell St BART Station (Market St at 4th St)  37.786375   \n",
       "5  30     San Francisco Caltrain (Townsend St at 4th St)  37.776598   \n",
       "6  81                                 Berry St at 4th St  37.775880   \n",
       "7   6                      The Embarcadero at Sansome St  37.804770   \n",
       "8   5       Powell St BART Station (Market St at 5th St)  37.783899   \n",
       "9  16                            Steuart St at Market St  37.794130   \n",
       "\n",
       "         long  count_trip  \n",
       "0 -122.395526        4857  \n",
       "1 -122.417385        3973  \n",
       "2 -122.400811        3647  \n",
       "3 -122.394203        3368  \n",
       "4 -122.404904        2997  \n",
       "5 -122.395282        2947  \n",
       "6 -122.393170        2872  \n",
       "7 -122.403234        2512  \n",
       "8 -122.408445        2353  \n",
       "9 -122.394430        2338  "
      ]
     },
     "execution_count": 31,
     "metadata": {},
     "output_type": "execute_result"
    }
   ],
   "source": [
    "print(\"Voici les 10 stations qui ont été plus de point de destination pour des trajets des customers.\")\n",
    "allInfosTopEndStation('end_station_id','end')"
   ]
  },
  {
   "cell_type": "markdown",
   "metadata": {},
   "source": [
    "### <p style='color:red'> Conclusion2: </p>\n",
    "### Here above are the 10 stations that have had the most starting points for the trip and the 10 concerning the destination stations (end of the trip).\n",
    "### Knowing these stations can help make billboards near these stations."
   ]
  },
  {
   "cell_type": "markdown",
   "metadata": {},
   "source": [
    "### <p style='color:red'> Question3:</p>\n",
    "### The number of trips made by each client group."
   ]
  },
  {
   "cell_type": "code",
   "execution_count": 32,
   "metadata": {},
   "outputs": [
    {
     "data": {
      "image/png": "[encoded data removed]",
      "text/plain": [
       "<Figure size 432x288 with 1 Axes>"
      ]
     },
     "metadata": {
      "needs_background": "light"
     },
     "output_type": "display_data"
    }
   ],
   "source": [
    "plt.hist(df_clean['user_type'])\n",
    "plt.xlabel(\"user type\")\n",
    "plt.ylabel(\"The number of trips\")\n",
    "plt.title(\"The number of trips made by each client group\");"
   ]
  },
  {
   "cell_type": "markdown",
   "metadata": {},
   "source": [
    "### <p style='color:red'>Conclusion3:</p>\n",
    "### We notice that we have two types of users, Subscriber users use more than Customer users"
   ]
  },
  {
   "cell_type": "markdown",
   "metadata": {},
   "source": [
    "### <p style='color:red'> Question4:</p>\n",
    "### What are the top 3 months with most usage for the start of the journey?\n",
    "### This will allow you to know how many bikes you need to make available each month. And also to know the most profitable months.\n",
    "### <p style='text-decoration: underline'>Code</p>"
   ]
  },
  {
   "cell_type": "code",
   "execution_count": 33,
   "metadata": {},
   "outputs": [
    {
     "data": {
      "text/plain": [
       "February    183215\n",
       "Name: start_month, dtype: int64"
      ]
     },
     "execution_count": 33,
     "metadata": {},
     "output_type": "execute_result"
    }
   ],
   "source": [
    "df_clean['start_month'].value_counts()"
   ]
  },
  {
   "cell_type": "code",
   "execution_count": 34,
   "metadata": {},
   "outputs": [
    {
     "data": {
      "image/png": "[encoded data removed]",
      "text/plain": [
       "<Figure size 720x432 with 1 Axes>"
      ]
     },
     "metadata": {
      "needs_background": "light"
     },
     "output_type": "display_data"
    }
   ],
   "source": [
    "## Let's retrieve the months of each journey start\n",
    "ordered_month=[ 'January','February','March','April','May','June','July','August', 'September', 'October', 'November', 'December']\n",
    "plt.figure(figsize=(10,6))\n",
    "sb.countplot(data=df_clean, x='start_month', order=ordered_month)\n",
    "plt.xticks(rotation=45);"
   ]
  },
  {
   "cell_type": "markdown",
   "metadata": {},
   "source": [
    "### <p style='color:red'>Conclusion4:</p>\n",
    "### Unfortunately, our dataframe only contains trips made in the month of February.\n",
    "### I could not make a difference, nor a comparison to have the months which are the most used.\n",
    "\n",
    "### <p style='color:red'>Question5:</p>\n",
    "### Let's take a closer look at the days of the week when many of the bike rides using the ford bike system.\n",
    "### <p style='text-decoration:underline'>Code</p>"
   ]
  },
  {
   "cell_type": "code",
   "execution_count": 35,
   "metadata": {},
   "outputs": [
    {
     "name": "stdout",
     "output_type": "stream",
     "text": [
      "Observons les jours de la semaine.\n"
     ]
    },
    {
     "data": {
      "image/png": "[encoded data removed]",
      "text/plain": [
       "<Figure size 720x432 with 1 Axes>"
      ]
     },
     "metadata": {
      "needs_background": "light"
     },
     "output_type": "display_data"
    }
   ],
   "source": [
    "## \n",
    "print('Observons les jours de la semaine.')\n",
    "ordered_day=['Monday','Tuesday', 'Wednesday', 'Thursday', 'Friday','Sartuday','Sunday']\n",
    "plt.figure(figsize=(10,6))\n",
    "theme_color=sb.color_palette()[0]\n",
    "sb.countplot(data=df_clean, x='start_day', order=ordered_day, color=theme_color)\n",
    "plt.xticks(rotation=45)\n",
    "plt.xlabel('Day of start_trip')\n",
    "plt.ylabel('Number_of_times_by_day')\n",
    "plt.title('Days of the week with the number of times ford bike system is used');"
   ]
  },
  {
   "cell_type": "markdown",
   "metadata": {},
   "source": [
    "### <p style='color:red'> Conclusion5</p>\n",
    "### 0 trips were made on Saturday using the ford bike system.\n",
    "### The top 3 days when there is more use of Ford bikes are: Thursday, Tuesday, Friday.\n",
    "### <p style='color:red'> Question6</p>\n",
    "### Le pourcentage par sexe des utilisateurs du systeme de ford.\n",
    "### <p style='text-decoration: underline'>Code</p>"
   ]
  },
  {
   "cell_type": "code",
   "execution_count": 36,
   "metadata": {},
   "outputs": [
    {
     "data": {
      "image/png": "[encoded data removed]",
      "text/plain": [
       "<Figure size 432x288 with 1 Axes>"
      ]
     },
     "metadata": {},
     "output_type": "display_data"
    }
   ],
   "source": [
    "gender_label=['Male','Femal','Other']\n",
    "gender=df_clean['member_gender'].value_counts()\n",
    "plt.pie(gender, labels = gender_label, startangle = 90, counterclock = True,autopct='%1.1f%%');"
   ]
  },
  {
   "cell_type": "markdown",
   "metadata": {},
   "source": [
    "### <p style='color:red'>Conclusion 7</p>\n",
    "### Of the 100% users, 74.6% are male; 23.3% of users are women and 2.1% are from other systems.\n",
    "### <p style='color:red'>Question 8: </p>\n",
    "### Let's evaluate the rate of people who use the self-service bicycle for all trips"
   ]
  },
  {
   "cell_type": "code",
   "execution_count": 37,
   "metadata": {},
   "outputs": [
    {
     "data": {
      "image/png": "[encoded data removed]",
      "text/plain": [
       "<Figure size 576x360 with 1 Axes>"
      ]
     },
     "metadata": {
      "needs_background": "light"
     },
     "output_type": "display_data"
    },
    {
     "data": {
      "image/png": "[encoded data removed]",
      "text/plain": [
       "<Figure size 576x360 with 1 Axes>"
      ]
     },
     "metadata": {
      "needs_background": "light"
     },
     "output_type": "display_data"
    }
   ],
   "source": [
    "bike_share = df_clean['bike_share_for_all_trip'].unique()\n",
    "\n",
    "number = df_clean['bike_share_for_all_trip'].value_counts(sort=True)\n",
    "\n",
    "plt.figure(figsize=(8,5))\n",
    "plt.bar(bike_share, number)\n",
    "plt.xlabel('Choix bike share for all trip')\n",
    "plt.ylabel('count')\n",
    "plt.title('Diagramme en bar sur la colonne bike_share_for_all_trip avec plt.')\n",
    "plt.show();\n",
    "\n",
    "plt.figure(figsize=(8,5))\n",
    "base_color = sb.color_palette()[0]\n",
    "ax = sb.countplot(data=df_clean, x ='bike_share_for_all_trip', color=base_color)\n",
    "cat_counts = df_clean['bike_share_for_all_trip'].value_counts()\n",
    "locs, labels = plt.xticks()\n",
    "for loc, label in zip(locs, labels):\n",
    "    count = cat_counts[label.get_text()]\n",
    "    pct_string = '{}'.format(count)\n",
    "    plt.text(loc, count, pct_string, va='top', ha='center', color = 'black', fontsize=12)\n",
    "\n",
    "plt.title('Diagramme en bar sur la colonne bike_share_for_all_trip avec plt.')\n",
    "plt.show();\n"
   ]
  },
  {
   "cell_type": "markdown",
   "metadata": {},
   "source": [
    "### <p style='color:red'>Conclusion 8</p>\n",
    "### Of the 183,215, recording, 165,869 opt for No for bike sharing during a trip and 17,346 opt for Yes for bike sharing during their trip.\n"
   ]
  },
  {
   "cell_type": "markdown",
   "metadata": {},
   "source": [
    "## Fin visualisation Univarié Résumé"
   ]
  },
  {
   "cell_type": "markdown",
   "metadata": {},
   "source": [
    "### Discuss the distribution(s) of your variables of interest. Were there any unusual points? Did you need to perform any transformations?\n",
    "\n",
    "The variables on which I performed univariate visualizations are all interesting. We were able to observe on average the duration of a journey, the 10 top 10 most used stations for departures, the 10 top 10 most used stations for journey ends.\n",
    "We were also able to discover that only trips for the month of February 2019 are recorded in our dataset.\n",
    "We were also able to observe the types of customers who use our system the most.\n",
    "\n",
    "### Among the features you investigated, were there any unusual distributions? Did you perform any data operations to tidy, adjust, or change the shape of the data? If so, why did you do this?\n",
    "\n",
    "I had to perform operations (like cleaning, adjusting, reshaping) on ​​the data before I could plot what's behind it"
   ]
  },
  {
   "cell_type": "markdown",
   "metadata": {},
   "source": [
    "## Bivariate Exploration\n",
    "\n",
    "> In this section, investigate relationships between pairs of variables in your\n",
    "data. Make sure the variables that you cover here have been introduced in some\n",
    "fashion in the previous section (univariate exploration)."
   ]
  },
  {
   "cell_type": "markdown",
   "metadata": {},
   "source": [
    "### <p style='color:red'>Question b1</p>\n",
    "### How many trips do we have per day according to the type of users\n",
    "### <p style='text-decoration:underline'>Code</p>"
   ]
  },
  {
   "cell_type": "code",
   "execution_count": 38,
   "metadata": {},
   "outputs": [
    {
     "data": {
      "text/html": [
       "<div>\n",
       "<style scoped>\n",
       "    .dataframe tbody tr th:only-of-type {\n",
       "        vertical-align: middle;\n",
       "    }\n",
       "\n",
       "    .dataframe tbody tr th {\n",
       "        vertical-align: top;\n",
       "    }\n",
       "\n",
       "    .dataframe thead th {\n",
       "        text-align: right;\n",
       "    }\n",
       "</style>\n",
       "<table border=\"1\" class=\"dataframe\">\n",
       "  <thead>\n",
       "    <tr style=\"text-align: right;\">\n",
       "      <th></th>\n",
       "      <th>duration_sec</th>\n",
       "      <th>start_time</th>\n",
       "      <th>end_time</th>\n",
       "      <th>start_station_id</th>\n",
       "      <th>start_station_name</th>\n",
       "      <th>start_station_latitude</th>\n",
       "      <th>start_station_longitude</th>\n",
       "      <th>end_station_id</th>\n",
       "      <th>end_station_name</th>\n",
       "      <th>end_station_latitude</th>\n",
       "      <th>end_station_longitude</th>\n",
       "      <th>bike_id</th>\n",
       "      <th>user_type</th>\n",
       "      <th>member_birth_year</th>\n",
       "      <th>member_gender</th>\n",
       "      <th>bike_share_for_all_trip</th>\n",
       "      <th>start_month</th>\n",
       "      <th>start_day</th>\n",
       "    </tr>\n",
       "  </thead>\n",
       "  <tbody>\n",
       "    <tr>\n",
       "      <th>0</th>\n",
       "      <td>52185</td>\n",
       "      <td>2019-02-28</td>\n",
       "      <td>2019-03-01</td>\n",
       "      <td>21</td>\n",
       "      <td>Montgomery St BART Station (Market St at 2nd St)</td>\n",
       "      <td>37.789625</td>\n",
       "      <td>-122.400811</td>\n",
       "      <td>13</td>\n",
       "      <td>Commercial St at Montgomery St</td>\n",
       "      <td>37.794231</td>\n",
       "      <td>-122.402923</td>\n",
       "      <td>4902</td>\n",
       "      <td>Customer</td>\n",
       "      <td>1984</td>\n",
       "      <td>Male</td>\n",
       "      <td>No</td>\n",
       "      <td>February</td>\n",
       "      <td>Thursday</td>\n",
       "    </tr>\n",
       "    <tr>\n",
       "      <th>1</th>\n",
       "      <td>42521</td>\n",
       "      <td>2019-02-28</td>\n",
       "      <td>2019-03-01</td>\n",
       "      <td>23</td>\n",
       "      <td>The Embarcadero at Steuart St</td>\n",
       "      <td>37.791464</td>\n",
       "      <td>-122.391034</td>\n",
       "      <td>81</td>\n",
       "      <td>Berry St at 4th St</td>\n",
       "      <td>37.77588</td>\n",
       "      <td>-122.39317</td>\n",
       "      <td>2535</td>\n",
       "      <td>Customer</td>\n",
       "      <td>&lt;NA&gt;</td>\n",
       "      <td>NaN</td>\n",
       "      <td>No</td>\n",
       "      <td>February</td>\n",
       "      <td>Thursday</td>\n",
       "    </tr>\n",
       "    <tr>\n",
       "      <th>2</th>\n",
       "      <td>61854</td>\n",
       "      <td>2019-02-28</td>\n",
       "      <td>2019-03-01</td>\n",
       "      <td>86</td>\n",
       "      <td>Market St at Dolores St</td>\n",
       "      <td>37.769305</td>\n",
       "      <td>-122.426826</td>\n",
       "      <td>3</td>\n",
       "      <td>Powell St BART Station (Market St at 4th St)</td>\n",
       "      <td>37.786375</td>\n",
       "      <td>-122.404904</td>\n",
       "      <td>5905</td>\n",
       "      <td>Customer</td>\n",
       "      <td>1972</td>\n",
       "      <td>Male</td>\n",
       "      <td>No</td>\n",
       "      <td>February</td>\n",
       "      <td>Thursday</td>\n",
       "    </tr>\n",
       "    <tr>\n",
       "      <th>3</th>\n",
       "      <td>36490</td>\n",
       "      <td>2019-02-28</td>\n",
       "      <td>2019-03-01</td>\n",
       "      <td>375</td>\n",
       "      <td>Grove St at Masonic Ave</td>\n",
       "      <td>37.774836</td>\n",
       "      <td>-122.446546</td>\n",
       "      <td>70</td>\n",
       "      <td>Central Ave at Fell St</td>\n",
       "      <td>37.773311</td>\n",
       "      <td>-122.444293</td>\n",
       "      <td>6638</td>\n",
       "      <td>Subscriber</td>\n",
       "      <td>1989</td>\n",
       "      <td>Other</td>\n",
       "      <td>No</td>\n",
       "      <td>February</td>\n",
       "      <td>Thursday</td>\n",
       "    </tr>\n",
       "    <tr>\n",
       "      <th>4</th>\n",
       "      <td>1585</td>\n",
       "      <td>2019-02-28</td>\n",
       "      <td>2019-03-01</td>\n",
       "      <td>7</td>\n",
       "      <td>Frank H Ogawa Plaza</td>\n",
       "      <td>37.804562</td>\n",
       "      <td>-122.271738</td>\n",
       "      <td>222</td>\n",
       "      <td>10th Ave at E 15th St</td>\n",
       "      <td>37.792714</td>\n",
       "      <td>-122.24878</td>\n",
       "      <td>4898</td>\n",
       "      <td>Subscriber</td>\n",
       "      <td>1974</td>\n",
       "      <td>Male</td>\n",
       "      <td>Yes</td>\n",
       "      <td>February</td>\n",
       "      <td>Thursday</td>\n",
       "    </tr>\n",
       "  </tbody>\n",
       "</table>\n",
       "</div>"
      ],
      "text/plain": [
       "   duration_sec start_time   end_time start_station_id  \\\n",
       "0         52185 2019-02-28 2019-03-01               21   \n",
       "1         42521 2019-02-28 2019-03-01               23   \n",
       "2         61854 2019-02-28 2019-03-01               86   \n",
       "3         36490 2019-02-28 2019-03-01              375   \n",
       "4          1585 2019-02-28 2019-03-01                7   \n",
       "\n",
       "                                 start_station_name start_station_latitude  \\\n",
       "0  Montgomery St BART Station (Market St at 2nd St)              37.789625   \n",
       "1                     The Embarcadero at Steuart St              37.791464   \n",
       "2                           Market St at Dolores St              37.769305   \n",
       "3                           Grove St at Masonic Ave              37.774836   \n",
       "4                               Frank H Ogawa Plaza              37.804562   \n",
       "\n",
       "  start_station_longitude end_station_id  \\\n",
       "0             -122.400811             13   \n",
       "1             -122.391034             81   \n",
       "2             -122.426826              3   \n",
       "3             -122.446546             70   \n",
       "4             -122.271738            222   \n",
       "\n",
       "                               end_station_name end_station_latitude  \\\n",
       "0                Commercial St at Montgomery St            37.794231   \n",
       "1                            Berry St at 4th St             37.77588   \n",
       "2  Powell St BART Station (Market St at 4th St)            37.786375   \n",
       "3                        Central Ave at Fell St            37.773311   \n",
       "4                         10th Ave at E 15th St            37.792714   \n",
       "\n",
       "  end_station_longitude bike_id   user_type member_birth_year member_gender  \\\n",
       "0           -122.402923    4902    Customer              1984          Male   \n",
       "1            -122.39317    2535    Customer              <NA>           NaN   \n",
       "2           -122.404904    5905    Customer              1972          Male   \n",
       "3           -122.444293    6638  Subscriber              1989         Other   \n",
       "4            -122.24878    4898  Subscriber              1974          Male   \n",
       "\n",
       "  bike_share_for_all_trip start_month start_day  \n",
       "0                      No    February  Thursday  \n",
       "1                      No    February  Thursday  \n",
       "2                      No    February  Thursday  \n",
       "3                      No    February  Thursday  \n",
       "4                     Yes    February  Thursday  "
      ]
     },
     "execution_count": 38,
     "metadata": {},
     "output_type": "execute_result"
    }
   ],
   "source": [
    "df_clean.head()"
   ]
  },
  {
   "cell_type": "code",
   "execution_count": 39,
   "metadata": {},
   "outputs": [
    {
     "data": {
      "image/png": "[encoded data removed]",
      "text/plain": [
       "<Figure size 1080x360 with 1 Axes>"
      ]
     },
     "metadata": {
      "needs_background": "light"
     },
     "output_type": "display_data"
    }
   ],
   "source": [
    "plt.figure(figsize=(15,5))\n",
    "sb.countplot(data = df_clean, x = 'start_day', hue= 'user_type')\n",
    "plt.xlabel(\"start_day && user_type\")\n",
    "plt.ylabel('Count')\n",
    "plt.title(\"Nombre d'utilisation des vélos par jours suivant la catégorie\");"
   ]
  },
  {
   "cell_type": "markdown",
   "metadata": {},
   "source": [
    "### <p style='color:red'> Conclusion b1</p>\n",
    "### There is no day when 'customer' type users use the system as 'subscriber' type users\n",
    "### On Thursdays, both types of user use the bike system a lot more.\n",
    "### <p style='color:red'>Questionb2</p>\n",
    "### How many trips do we have per month by type of users\n",
    "### <p style='text-decoration:underline'>Code</p>"
   ]
  },
  {
   "cell_type": "code",
   "execution_count": 40,
   "metadata": {},
   "outputs": [
    {
     "data": {
      "image/png": "[encoded data removed]",
      "text/plain": [
       "<Figure size 1080x360 with 1 Axes>"
      ]
     },
     "metadata": {
      "needs_background": "light"
     },
     "output_type": "display_data"
    }
   ],
   "source": [
    "plt.figure(figsize=(15,5))\n",
    "sb.countplot(data = df_clean, x = 'start_month', hue= 'user_type')\n",
    "plt.xlabel(\"start_month && user_type\")\n",
    "plt.ylabel('Count')\n",
    "plt.title(\"Nombre d'utilisation des vélos par mois suivant la catégorie\");"
   ]
  },
  {
   "cell_type": "markdown",
   "metadata": {},
   "source": [
    "### <p style='color:red'> Conclusion b2</p>\n",
    "### Nous avons malheureusement juste les enregistrements d'un seul mois et c'est Février. En février,les subscriber ont plus utilisé le système que les customer\n",
    "\n",
    "### <p style='color:red'>Questionb3</p>\n",
    "### How close are the 10 best departure stations for journey\n",
    "### <p style='text-decoration:underline'>Code</p>"
   ]
  },
  {
   "cell_type": "markdown",
   "metadata": {},
   "source": [
    "### <p style='color:red'> Conclusion b2</p>\n",
    "### Nous avons malheureusement juste les enregistrements d'un seul mois et c'est Février. En février,les subscriber ont plus utilisé le système que les customer\n",
    "\n",
    "### <p style='color:red'>Questionb3</p>\n",
    "### How close are the 10 best departure stations for journey\n",
    "### <p style='text-decoration:underline'>Code</p>"
   ]
  },
  {
   "cell_type": "code",
   "execution_count": 41,
   "metadata": {},
   "outputs": [
    {
     "data": {
      "image/png": "[encoded data removed]",
      "text/plain": [
       "<Figure size 432x288 with 1 Axes>"
      ]
     },
     "metadata": {
      "needs_background": "light"
     },
     "output_type": "display_data"
    }
   ],
   "source": [
    "plt.scatter(x=data_info['lat'],y=data_info['long'], c='b', s=75, edgecolor='r')\n",
    "plt.title('Représentation des 10 meilleures stations qui sont les plus utilisé pour un start trajet')\n",
    "plt.xlabel('latitude start')\n",
    "plt.ylabel('longitude start')\n",
    "plt.xticks(rotation=45);"
   ]
  },
  {
   "cell_type": "markdown",
   "metadata": {},
   "source": [
    "### <p style='color:red'> Conclusionb3</p>\n",
    "### Les 10 meilleurs start station sont pas reprochés. Leur represenation suivant la latitude et leur longitude se ressemble pas.\n",
    "\n",
    "### <p style='color:red'>Questionb4</p>\n",
    "### How close are the 10 best arrival stations for journey\n",
    "### <p style='text-decoration:underline'>Code</p>"
   ]
  },
  {
   "cell_type": "code",
   "execution_count": 42,
   "metadata": {},
   "outputs": [
    {
     "data": {
      "image/png": "[encoded data removed]",
      "text/plain": [
       "<Figure size 432x288 with 1 Axes>"
      ]
     },
     "metadata": {
      "needs_background": "light"
     },
     "output_type": "display_data"
    }
   ],
   "source": [
    "plt.scatter(x=data_info1['lat'],y=data_info1['long'], c='purple', s=75, edgecolor='r')\n",
    "plt.title('Représentation des 10 meilleures stations qui sont les plus utilisé pour un destination trajet')\n",
    "plt.xlabel('latitude end')\n",
    "plt.ylabel('longitude end')\n",
    "plt.xticks(rotation=45);"
   ]
  },
  {
   "cell_type": "markdown",
   "metadata": {},
   "source": [
    "### <p style='color:red'> Conclusionb4</p>\n",
    "### Les 10 meilleurs end station ne sont pas reprochées. Leurs represenations suivant la latitude et leur longitude se ressemblent pas.\n",
    "\n",
    "### <p style='color:red'>Questionb5</p>\n",
    "### What is the average duration performed by each type of user?\n",
    "### <p style='text-decoration:underline'>Code</p>"
   ]
  },
  {
   "cell_type": "code",
   "execution_count": 43,
   "metadata": {},
   "outputs": [
    {
     "name": "stdout",
     "output_type": "stream",
     "text": [
      "Durée moyenne du temps passé pour les trajets par les deux types d'utilisateur du système.\n",
      "\n",
      "            duration_sec\n",
      "user_type               \n",
      "Customer     1433.475734\n",
      "Subscriber    640.164766\n"
     ]
    },
    {
     "data": {
      "image/png": "[encoded data removed]",
      "text/plain": [
       "<Figure size 720x432 with 1 Axes>"
      ]
     },
     "metadata": {
      "needs_background": "light"
     },
     "output_type": "display_data"
    }
   ],
   "source": [
    "df_duration_by_user = df_clean[['user_type', 'duration_sec']].groupby('user_type').mean()\n",
    "print(\"Durée moyenne du temps passé pour les trajets par les deux types d'utilisateur du système.\\n\")\n",
    "print(df_duration_by_user)\n",
    "df_duration_by_user.plot(kind='bar', figsize=(10,6), color=base_color, fontsize=13)\n",
    "plt.xticks(rotation=45);"
   ]
  },
  {
   "cell_type": "markdown",
   "metadata": {},
   "source": [
    "### <p style='color:red'>Conclusionb6</p>\n",
    "### Nous avons remarqué que la durée des customer est tellemnt plus grande que celle d'un abonnée."
   ]
  },
  {
   "cell_type": "markdown",
   "metadata": {},
   "source": [
    "### Talk about some of the relationships you observed in this part of the investigation. How did the feature(s) of interest vary with other features in the dataset?\n",
    "> Il existe une sorte de corrélation entre la durée et le type d'utilisateur, les abonnés ayant tendance à avoir des temps d'utilisation plus courts que les clients.\n",
    "\n",
    "\n",
    "### Did you observe any interesting relationships between the other features (not the main feature(s) of interest)?\n",
    "\n",
    "### Fin bivariate exploration"
   ]
  },
  {
   "cell_type": "markdown",
   "metadata": {},
   "source": [
    "## Multivariate Exploration\n",
    "\n",
    "> Create plots of three or more variables to investigate your data even\n",
    "further. Make sure that your investigations are justified, and follow from\n",
    "your work in the previous sections."
   ]
  },
  {
   "cell_type": "code",
   "execution_count": 44,
   "metadata": {},
   "outputs": [
    {
     "data": {
      "image/png": "[encoded data removed]",
      "text/plain": [
       "<Figure size 1080x360 with 1 Axes>"
      ]
     },
     "metadata": {
      "needs_background": "light"
     },
     "output_type": "display_data"
    }
   ],
   "source": [
    "plt.figure(figsize=(15,5))\n",
    "sb.barplot(data=df_clean, x='start_day', y='duration_sec', ci=None, hue='user_type')\n",
    "plt.xticks(rotation=45);"
   ]
  },
  {
   "cell_type": "markdown",
   "metadata": {},
   "source": [
    "### Talk about some of the relationships you observed in this part of the investigation. Were there features that strengthened each other in terms of looking at your feature(s) of interest?\n",
    "\n",
    "> Your answer here!\n",
    "\n",
    "### Were there any interesting or surprising interactions between features?\n",
    "\n",
    "> Your answer here!"
   ]
  },
  {
   "cell_type": "markdown",
   "metadata": {},
   "source": [
    "### <p style='color:red'>Conclusions</p>\n",
    "We explored this dataset wonderfully. It's really interesting. We could notice\n",
    "- the days when there is more use of bicycles\n",
    "- The top 10 departures\n",
    "- the top 10 end_station\n",
    "- we were also able to observe their proximity\n",
    "- types of users\n",
    "- the types of users who use the system the most\n",
    "- the types of user who make more time during their journey."
   ]
  },
  {
   "cell_type": "code",
   "execution_count": 45,
   "metadata": {},
   "outputs": [],
   "source": [
    "### Convertions du df clean en csv\n",
    "df_clean_csv=df_clean.to_csv('df_clean_csv.csv', index=False)"
   ]
  },
  {
   "cell_type": "code",
   "execution_count": 46,
   "metadata": {},
   "outputs": [
    {
     "data": {
      "text/html": [
       "<div>\n",
       "<style scoped>\n",
       "    .dataframe tbody tr th:only-of-type {\n",
       "        vertical-align: middle;\n",
       "    }\n",
       "\n",
       "    .dataframe tbody tr th {\n",
       "        vertical-align: top;\n",
       "    }\n",
       "\n",
       "    .dataframe thead th {\n",
       "        text-align: right;\n",
       "    }\n",
       "</style>\n",
       "<table border=\"1\" class=\"dataframe\">\n",
       "  <thead>\n",
       "    <tr style=\"text-align: right;\">\n",
       "      <th></th>\n",
       "      <th>duration_sec</th>\n",
       "      <th>start_time</th>\n",
       "      <th>end_time</th>\n",
       "      <th>start_station_id</th>\n",
       "      <th>start_station_name</th>\n",
       "      <th>start_station_latitude</th>\n",
       "      <th>start_station_longitude</th>\n",
       "      <th>end_station_id</th>\n",
       "      <th>end_station_name</th>\n",
       "      <th>end_station_latitude</th>\n",
       "      <th>end_station_longitude</th>\n",
       "      <th>bike_id</th>\n",
       "      <th>user_type</th>\n",
       "      <th>member_birth_year</th>\n",
       "      <th>member_gender</th>\n",
       "      <th>bike_share_for_all_trip</th>\n",
       "      <th>start_month</th>\n",
       "      <th>start_day</th>\n",
       "    </tr>\n",
       "  </thead>\n",
       "  <tbody>\n",
       "    <tr>\n",
       "      <th>0</th>\n",
       "      <td>52185</td>\n",
       "      <td>2019-02-28</td>\n",
       "      <td>2019-03-01</td>\n",
       "      <td>21</td>\n",
       "      <td>Montgomery St BART Station (Market St at 2nd St)</td>\n",
       "      <td>37.789625</td>\n",
       "      <td>-122.400811</td>\n",
       "      <td>13</td>\n",
       "      <td>Commercial St at Montgomery St</td>\n",
       "      <td>37.794231</td>\n",
       "      <td>-122.402923</td>\n",
       "      <td>4902</td>\n",
       "      <td>Customer</td>\n",
       "      <td>1984.0</td>\n",
       "      <td>Male</td>\n",
       "      <td>No</td>\n",
       "      <td>February</td>\n",
       "      <td>Thursday</td>\n",
       "    </tr>\n",
       "    <tr>\n",
       "      <th>1</th>\n",
       "      <td>42521</td>\n",
       "      <td>2019-02-28</td>\n",
       "      <td>2019-03-01</td>\n",
       "      <td>23</td>\n",
       "      <td>The Embarcadero at Steuart St</td>\n",
       "      <td>37.791464</td>\n",
       "      <td>-122.391034</td>\n",
       "      <td>81</td>\n",
       "      <td>Berry St at 4th St</td>\n",
       "      <td>37.775880</td>\n",
       "      <td>-122.393170</td>\n",
       "      <td>2535</td>\n",
       "      <td>Customer</td>\n",
       "      <td>NaN</td>\n",
       "      <td>NaN</td>\n",
       "      <td>No</td>\n",
       "      <td>February</td>\n",
       "      <td>Thursday</td>\n",
       "    </tr>\n",
       "    <tr>\n",
       "      <th>2</th>\n",
       "      <td>61854</td>\n",
       "      <td>2019-02-28</td>\n",
       "      <td>2019-03-01</td>\n",
       "      <td>86</td>\n",
       "      <td>Market St at Dolores St</td>\n",
       "      <td>37.769305</td>\n",
       "      <td>-122.426826</td>\n",
       "      <td>3</td>\n",
       "      <td>Powell St BART Station (Market St at 4th St)</td>\n",
       "      <td>37.786375</td>\n",
       "      <td>-122.404904</td>\n",
       "      <td>5905</td>\n",
       "      <td>Customer</td>\n",
       "      <td>1972.0</td>\n",
       "      <td>Male</td>\n",
       "      <td>No</td>\n",
       "      <td>February</td>\n",
       "      <td>Thursday</td>\n",
       "    </tr>\n",
       "    <tr>\n",
       "      <th>3</th>\n",
       "      <td>36490</td>\n",
       "      <td>2019-02-28</td>\n",
       "      <td>2019-03-01</td>\n",
       "      <td>375</td>\n",
       "      <td>Grove St at Masonic Ave</td>\n",
       "      <td>37.774836</td>\n",
       "      <td>-122.446546</td>\n",
       "      <td>70</td>\n",
       "      <td>Central Ave at Fell St</td>\n",
       "      <td>37.773311</td>\n",
       "      <td>-122.444293</td>\n",
       "      <td>6638</td>\n",
       "      <td>Subscriber</td>\n",
       "      <td>1989.0</td>\n",
       "      <td>Other</td>\n",
       "      <td>No</td>\n",
       "      <td>February</td>\n",
       "      <td>Thursday</td>\n",
       "    </tr>\n",
       "    <tr>\n",
       "      <th>4</th>\n",
       "      <td>1585</td>\n",
       "      <td>2019-02-28</td>\n",
       "      <td>2019-03-01</td>\n",
       "      <td>7</td>\n",
       "      <td>Frank H Ogawa Plaza</td>\n",
       "      <td>37.804562</td>\n",
       "      <td>-122.271738</td>\n",
       "      <td>222</td>\n",
       "      <td>10th Ave at E 15th St</td>\n",
       "      <td>37.792714</td>\n",
       "      <td>-122.248780</td>\n",
       "      <td>4898</td>\n",
       "      <td>Subscriber</td>\n",
       "      <td>1974.0</td>\n",
       "      <td>Male</td>\n",
       "      <td>Yes</td>\n",
       "      <td>February</td>\n",
       "      <td>Thursday</td>\n",
       "    </tr>\n",
       "    <tr>\n",
       "      <th>...</th>\n",
       "      <td>...</td>\n",
       "      <td>...</td>\n",
       "      <td>...</td>\n",
       "      <td>...</td>\n",
       "      <td>...</td>\n",
       "      <td>...</td>\n",
       "      <td>...</td>\n",
       "      <td>...</td>\n",
       "      <td>...</td>\n",
       "      <td>...</td>\n",
       "      <td>...</td>\n",
       "      <td>...</td>\n",
       "      <td>...</td>\n",
       "      <td>...</td>\n",
       "      <td>...</td>\n",
       "      <td>...</td>\n",
       "      <td>...</td>\n",
       "      <td>...</td>\n",
       "    </tr>\n",
       "    <tr>\n",
       "      <th>183210</th>\n",
       "      <td>480</td>\n",
       "      <td>2019-02-01</td>\n",
       "      <td>2019-02-01</td>\n",
       "      <td>27</td>\n",
       "      <td>Beale St at Harrison St</td>\n",
       "      <td>37.788059</td>\n",
       "      <td>-122.391865</td>\n",
       "      <td>324</td>\n",
       "      <td>Union Square (Powell St at Post St)</td>\n",
       "      <td>37.788300</td>\n",
       "      <td>-122.408531</td>\n",
       "      <td>4832</td>\n",
       "      <td>Subscriber</td>\n",
       "      <td>1996.0</td>\n",
       "      <td>Male</td>\n",
       "      <td>No</td>\n",
       "      <td>February</td>\n",
       "      <td>Friday</td>\n",
       "    </tr>\n",
       "    <tr>\n",
       "      <th>183211</th>\n",
       "      <td>313</td>\n",
       "      <td>2019-02-01</td>\n",
       "      <td>2019-02-01</td>\n",
       "      <td>21</td>\n",
       "      <td>Montgomery St BART Station (Market St at 2nd St)</td>\n",
       "      <td>37.789625</td>\n",
       "      <td>-122.400811</td>\n",
       "      <td>66</td>\n",
       "      <td>3rd St at Townsend St</td>\n",
       "      <td>37.778742</td>\n",
       "      <td>-122.392741</td>\n",
       "      <td>4960</td>\n",
       "      <td>Subscriber</td>\n",
       "      <td>1984.0</td>\n",
       "      <td>Male</td>\n",
       "      <td>No</td>\n",
       "      <td>February</td>\n",
       "      <td>Friday</td>\n",
       "    </tr>\n",
       "    <tr>\n",
       "      <th>183212</th>\n",
       "      <td>141</td>\n",
       "      <td>2019-02-01</td>\n",
       "      <td>2019-02-01</td>\n",
       "      <td>278</td>\n",
       "      <td>The Alameda at Bush St</td>\n",
       "      <td>37.331932</td>\n",
       "      <td>-121.904888</td>\n",
       "      <td>277</td>\n",
       "      <td>Morrison Ave at Julian St</td>\n",
       "      <td>37.333658</td>\n",
       "      <td>-121.908586</td>\n",
       "      <td>3824</td>\n",
       "      <td>Subscriber</td>\n",
       "      <td>1990.0</td>\n",
       "      <td>Male</td>\n",
       "      <td>Yes</td>\n",
       "      <td>February</td>\n",
       "      <td>Friday</td>\n",
       "    </tr>\n",
       "    <tr>\n",
       "      <th>183213</th>\n",
       "      <td>139</td>\n",
       "      <td>2019-02-01</td>\n",
       "      <td>2019-02-01</td>\n",
       "      <td>220</td>\n",
       "      <td>San Pablo Ave at MLK Jr Way</td>\n",
       "      <td>37.811351</td>\n",
       "      <td>-122.273422</td>\n",
       "      <td>216</td>\n",
       "      <td>San Pablo Ave at 27th St</td>\n",
       "      <td>37.817827</td>\n",
       "      <td>-122.275698</td>\n",
       "      <td>5095</td>\n",
       "      <td>Subscriber</td>\n",
       "      <td>1988.0</td>\n",
       "      <td>Male</td>\n",
       "      <td>No</td>\n",
       "      <td>February</td>\n",
       "      <td>Friday</td>\n",
       "    </tr>\n",
       "    <tr>\n",
       "      <th>183214</th>\n",
       "      <td>271</td>\n",
       "      <td>2019-02-01</td>\n",
       "      <td>2019-02-01</td>\n",
       "      <td>24</td>\n",
       "      <td>Spear St at Folsom St</td>\n",
       "      <td>37.789677</td>\n",
       "      <td>-122.390428</td>\n",
       "      <td>37</td>\n",
       "      <td>2nd St at Folsom St</td>\n",
       "      <td>37.785000</td>\n",
       "      <td>-122.395936</td>\n",
       "      <td>1057</td>\n",
       "      <td>Subscriber</td>\n",
       "      <td>1989.0</td>\n",
       "      <td>Male</td>\n",
       "      <td>No</td>\n",
       "      <td>February</td>\n",
       "      <td>Friday</td>\n",
       "    </tr>\n",
       "  </tbody>\n",
       "</table>\n",
       "<p>183215 rows × 18 columns</p>\n",
       "</div>"
      ],
      "text/plain": [
       "        duration_sec  start_time    end_time  start_station_id  \\\n",
       "0              52185  2019-02-28  2019-03-01                21   \n",
       "1              42521  2019-02-28  2019-03-01                23   \n",
       "2              61854  2019-02-28  2019-03-01                86   \n",
       "3              36490  2019-02-28  2019-03-01               375   \n",
       "4               1585  2019-02-28  2019-03-01                 7   \n",
       "...              ...         ...         ...               ...   \n",
       "183210           480  2019-02-01  2019-02-01                27   \n",
       "183211           313  2019-02-01  2019-02-01                21   \n",
       "183212           141  2019-02-01  2019-02-01               278   \n",
       "183213           139  2019-02-01  2019-02-01               220   \n",
       "183214           271  2019-02-01  2019-02-01                24   \n",
       "\n",
       "                                      start_station_name  \\\n",
       "0       Montgomery St BART Station (Market St at 2nd St)   \n",
       "1                          The Embarcadero at Steuart St   \n",
       "2                                Market St at Dolores St   \n",
       "3                                Grove St at Masonic Ave   \n",
       "4                                    Frank H Ogawa Plaza   \n",
       "...                                                  ...   \n",
       "183210                           Beale St at Harrison St   \n",
       "183211  Montgomery St BART Station (Market St at 2nd St)   \n",
       "183212                            The Alameda at Bush St   \n",
       "183213                       San Pablo Ave at MLK Jr Way   \n",
       "183214                             Spear St at Folsom St   \n",
       "\n",
       "        start_station_latitude  start_station_longitude  end_station_id  \\\n",
       "0                    37.789625              -122.400811              13   \n",
       "1                    37.791464              -122.391034              81   \n",
       "2                    37.769305              -122.426826               3   \n",
       "3                    37.774836              -122.446546              70   \n",
       "4                    37.804562              -122.271738             222   \n",
       "...                        ...                      ...             ...   \n",
       "183210               37.788059              -122.391865             324   \n",
       "183211               37.789625              -122.400811              66   \n",
       "183212               37.331932              -121.904888             277   \n",
       "183213               37.811351              -122.273422             216   \n",
       "183214               37.789677              -122.390428              37   \n",
       "\n",
       "                                    end_station_name  end_station_latitude  \\\n",
       "0                     Commercial St at Montgomery St             37.794231   \n",
       "1                                 Berry St at 4th St             37.775880   \n",
       "2       Powell St BART Station (Market St at 4th St)             37.786375   \n",
       "3                             Central Ave at Fell St             37.773311   \n",
       "4                              10th Ave at E 15th St             37.792714   \n",
       "...                                              ...                   ...   \n",
       "183210           Union Square (Powell St at Post St)             37.788300   \n",
       "183211                         3rd St at Townsend St             37.778742   \n",
       "183212                     Morrison Ave at Julian St             37.333658   \n",
       "183213                      San Pablo Ave at 27th St             37.817827   \n",
       "183214                           2nd St at Folsom St             37.785000   \n",
       "\n",
       "        end_station_longitude  bike_id   user_type  member_birth_year  \\\n",
       "0                 -122.402923     4902    Customer             1984.0   \n",
       "1                 -122.393170     2535    Customer                NaN   \n",
       "2                 -122.404904     5905    Customer             1972.0   \n",
       "3                 -122.444293     6638  Subscriber             1989.0   \n",
       "4                 -122.248780     4898  Subscriber             1974.0   \n",
       "...                       ...      ...         ...                ...   \n",
       "183210            -122.408531     4832  Subscriber             1996.0   \n",
       "183211            -122.392741     4960  Subscriber             1984.0   \n",
       "183212            -121.908586     3824  Subscriber             1990.0   \n",
       "183213            -122.275698     5095  Subscriber             1988.0   \n",
       "183214            -122.395936     1057  Subscriber             1989.0   \n",
       "\n",
       "       member_gender bike_share_for_all_trip start_month start_day  \n",
       "0               Male                      No    February  Thursday  \n",
       "1                NaN                      No    February  Thursday  \n",
       "2               Male                      No    February  Thursday  \n",
       "3              Other                      No    February  Thursday  \n",
       "4               Male                     Yes    February  Thursday  \n",
       "...              ...                     ...         ...       ...  \n",
       "183210          Male                      No    February    Friday  \n",
       "183211          Male                      No    February    Friday  \n",
       "183212          Male                     Yes    February    Friday  \n",
       "183213          Male                      No    February    Friday  \n",
       "183214          Male                      No    February    Friday  \n",
       "\n",
       "[183215 rows x 18 columns]"
      ]
     },
     "execution_count": 46,
     "metadata": {},
     "output_type": "execute_result"
    }
   ],
   "source": [
    "pd.read_csv('df_clean_csv.csv')"
   ]
  },
  {
   "cell_type": "markdown",
   "metadata": {},
   "source": [
    "### <p style='color:red'> Merciiiiiiiii ALX-T! </p>\n",
    "\n",
    "### <p style='text-decoration:underline; text-align:right'>11/11/2022 </p>"
   ]
  }
 ],
 "metadata": {
  "kernelspec": {
   "display_name": "Python 3 (ipykernel)",
   "language": "python",
   "name": "python3"
  },
  "language_info": {
   "codemirror_mode": {
    "name": "ipython",
    "version": 3
   },
   "file_extension": ".py",
   "mimetype": "text/x-python",
   "name": "python",
   "nbconvert_exporter": "python",
   "pygments_lexer": "ipython3",
   "version": "3.9.12"
  }
 },
 "nbformat": 4,
 "nbformat_minor": 2
}
